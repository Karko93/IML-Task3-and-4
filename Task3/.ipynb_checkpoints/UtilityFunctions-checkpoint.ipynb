{
 "cells": [
  {
   "cell_type": "code",
   "execution_count": 59,
   "metadata": {},
   "outputs": [],
   "source": [
    "import pandas as pd\n",
    "import numpy as np"
   ]
  },
  {
   "cell_type": "code",
   "execution_count": 92,
   "metadata": {},
   "outputs": [],
   "source": [
    "### This function returns the data in an numpyarray with elements as strings\n",
    "def ReadData_char():\n",
    "    train_data = pd.read_csv(\"train.csv\")\n",
    "    test_data = pd.read_csv(\"test.csv\").to_numpy()\n",
    "    X_train = train_data.drop(columns = [\"Active\"]).to_numpy()\n",
    "    y_train = train_data.drop(columns = [\"Sequence\"]).to_numpy()\n",
    "    \n",
    "    \n",
    "    X_tr = np.array([np.array(X_train[i][0].replace(\"\", \" \").split(' ')[1:-1]) for i in range(X_train.shape[0])])\n",
    "    X_test = np.array([np.array(test_data[i][0].replace(\"\", \" \").split(' ')[1:-1]) for i in range(test_data.shape[0])])\n",
    "    \n",
    "    \n",
    "    return X_tr, y_train.ravel(), X_test\n"
   ]
  },
  {
   "cell_type": "code",
   "execution_count": 95,
   "metadata": {},
   "outputs": [],
   "source": [
    "### This function returns the data in an numpyarray with elements as integers --> 0 to 17\n",
    "def ReadData_int():\n",
    "    train_data = pd.read_csv(\"train.csv\")\n",
    "    test_data = pd.read_csv(\"test.csv\").to_numpy()\n",
    "    X_train = train_data.drop(columns = [\"Active\"]).to_numpy()\n",
    "    y_train = train_data.drop(columns = [\"Sequence\"]).to_numpy()\n",
    "    \n",
    "    \n",
    "    X_tr = np.array([np.array(X_train[i][0].replace(\"\", \" \").split(' ')[1:-1]) for i in range(X_train.shape[0])])\n",
    "    X_test = np.array([np.array(test_data[i][0].replace(\"\", \" \").split(' ')[1:-1]) for i in range(test_data.shape[0])])\n",
    "    \n",
    "\n",
    "    names = np.unique(X_tr)\n",
    "    print(\"unique elemens in the data: \",names)\n",
    "    gene_dict = dict(zip(names, range(names.shape[0])))\n",
    "    print(gene_dict)\n",
    "    for i in range(X_tr.shape[1]):\n",
    "        X_tr[:,i]= np.array([gene_dict[x] for x in X_tr[:,i]])\n",
    "        X_test[:,i] = np.array([gene_dict[x] for x in X_test[:,i]])\n",
    "    \n",
    "    return X_tr.astype(np.int), y_train.ravel(), X_test.astype(np.int)"
   ]
  },
  {
   "cell_type": "code",
   "execution_count": 61,
   "metadata": {},
   "outputs": [],
   "source": [
    "def WriteData(data,filename = 'submission'):\n",
    "    pd.DataFrame(data).to_csv(filename + '.csv', index=False, header=False, sep=' ')"
   ]
  },
  {
   "cell_type": "code",
   "execution_count": null,
   "metadata": {},
   "outputs": [],
   "source": []
  }
 ],
 "metadata": {
  "kernelspec": {
   "display_name": "Python 3",
   "language": "python",
   "name": "python3"
  },
  "language_info": {
   "codemirror_mode": {
    "name": "ipython",
    "version": 3
   },
   "file_extension": ".py",
   "mimetype": "text/x-python",
   "name": "python",
   "nbconvert_exporter": "python",
   "pygments_lexer": "ipython3",
   "version": "3.7.7"
  }
 },
 "nbformat": 4,
 "nbformat_minor": 4
}
