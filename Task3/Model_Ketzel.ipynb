{
 "cells": [
  {
   "cell_type": "code",
   "execution_count": 1,
   "metadata": {},
   "outputs": [],
   "source": [
    "import pandas as pd\n",
    "import numpy as np\n",
    "from UtilityFunctions import ReadData_int, WriteData, ReadData_char\n",
    "from sklearn.svm import SVC\n",
    "from sklearn.model_selection import train_test_split\n",
    "from sklearn.metrics import f1_score\n",
    "from sklearn.preprocessing import LabelEncoder\n",
    "from sklearn.preprocessing import OneHotEncoder\n",
    "from sklearn.preprocessing import OrdinalEncoder"
   ]
  },
  {
   "cell_type": "code",
   "execution_count": 2,
   "metadata": {},
   "outputs": [],
   "source": [
    "train_features, train_labels, test_features = ReadData_char()"
   ]
  },
  {
   "cell_type": "code",
   "execution_count": 3,
   "metadata": {},
   "outputs": [],
   "source": [
    "ordinalEncoder=  OrdinalEncoder(dtype= np.int64)#categories=gene_dict)\n",
    "ordinalEncoder.fit(train_features)\n",
    "train_enc = ordinalEncoder.transform(train_features)\n",
    "test_enc = ordinalEncoder.transform(test_features)\n",
    "#for i in range(0,train_features.shape[1]):\n",
    "    #train_features[:,i]= ordinalEncoder.transform(train_features[:,i])\n",
    "    #test_features[:,i]= ordinalEncoder.transform(test_features[:,i])\n",
    "    \n",
    "#one = OneHotEncoder()\n",
    "#train_enc = one.fit_transform(train_enc)"
   ]
  },
  {
   "cell_type": "code",
   "execution_count": null,
   "metadata": {},
   "outputs": [],
   "source": []
  },
  {
   "cell_type": "code",
   "execution_count": 4,
   "metadata": {},
   "outputs": [],
   "source": [
    "one=OneHotEncoder()\n",
    "one.fit(train_enc)\n",
    "train_enc = one.transform(train_enc).toarray()\n",
    "test_enc =one.transform(test_enc).toarray()"
   ]
  },
  {
   "cell_type": "code",
   "execution_count": 5,
   "metadata": {
    "scrolled": true
   },
   "outputs": [
    {
     "name": "stdout",
     "output_type": "stream",
     "text": [
      "(112000, 80) (48000, 80)\n"
     ]
    }
   ],
   "source": [
    "print(train_enc.shape,test_enc.shape)"
   ]
  },
  {
   "cell_type": "code",
   "execution_count": 6,
   "metadata": {},
   "outputs": [],
   "source": [
    "X_train, X_val, y_train, y_val = train_test_split(train_enc, train_labels, test_size= 0.2)"
   ]
  },
  {
   "cell_type": "code",
   "execution_count": null,
   "metadata": {},
   "outputs": [],
   "source": [
    "from sklearn.linear_model import LogisticRegression"
   ]
  },
  {
   "cell_type": "code",
   "execution_count": null,
   "metadata": {},
   "outputs": [],
   "source": [
    "lr=LogisticRegression(penalty= 'l2')\n",
    "lr.fit(X_train,y_train)\n",
    "y_pre=lr.predict(X_val)\n",
    "print('F1-Score : ',f1_score(y_val,y_pre))"
   ]
  },
  {
   "cell_type": "code",
   "execution_count": null,
   "metadata": {},
   "outputs": [],
   "source": [
    "from sklearn.svm import SVC"
   ]
  },
  {
   "cell_type": "code",
   "execution_count": null,
   "metadata": {},
   "outputs": [],
   "source": [
    "svm=SVC(gamma='auto')\n",
    "svm.fit(X_train,y_train)\n",
    "y_pre=svm.predict(X_val)\n",
    "print('F1-Score : ',f1_score(y_val,y_pre))"
   ]
  },
  {
   "cell_type": "code",
   "execution_count": 7,
   "metadata": {},
   "outputs": [],
   "source": [
    "from sklearn.neural_network import MLPClassifier\n",
    "from sklearn.neighbors import KNeighborsClassifier\n",
    "from sklearn.svm import SVC\n",
    "from sklearn.gaussian_process import GaussianProcessClassifier\n",
    "from sklearn.gaussian_process.kernels import RBF\n",
    "from sklearn.tree import DecisionTreeClassifier\n",
    "from sklearn.ensemble import RandomForestClassifier, AdaBoostClassifier\n",
    "from sklearn.discriminant_analysis import QuadraticDiscriminantAnalysis"
   ]
  },
  {
   "cell_type": "code",
   "execution_count": 17,
   "metadata": {},
   "outputs": [],
   "source": [
    "classifiers = [\n",
    "    #KNeighborsClassifier(100),\n",
    "    #SVC(kernel=\"linear\", C=0.025),\n",
    "    #SVC(gamma=2, C=1),\n",
    "    #GaussianProcessClassifier(1.0 * RBF(1.0)),\n",
    "    #DecisionTreeClassifier(max_depth=20),]\n",
    "    RandomForestClassifier(n_estimators=20),\n",
    "    #MLPClassifier(alpha='auto', max_iter=1000),]\n",
    "    #AdaBoostClassifier(),\n",
    "    #QuadraticDiscriminantAnalysis()]\n",
    "]"
   ]
  },
  {
   "cell_type": "code",
   "execution_count": 18,
   "metadata": {},
   "outputs": [
    {
     "name": "stdout",
     "output_type": "stream",
     "text": [
      "RandomForestClassifier\n"
     ]
    }
   ],
   "source": [
    "print(classifiers[0].__class__.__name__)"
   ]
  },
  {
   "cell_type": "code",
   "execution_count": 19,
   "metadata": {},
   "outputs": [
    {
     "name": "stdout",
     "output_type": "stream",
     "text": [
      "F1-Score of  RandomForestClassifier  :  0.7737226277372262\n"
     ]
    }
   ],
   "source": [
    "for clf in classifiers:\n",
    "    clf.fit(X_train,y_train)\n",
    "    y_pre=clf.predict(X_val)\n",
    "    print('F1-Score of ',clf.__class__.__name__,' : ',f1_score(y_val,y_pre))"
   ]
  },
  {
   "cell_type": "code",
   "execution_count": null,
   "metadata": {},
   "outputs": [],
   "source": [
    "qda = DecisionTreeClassifier(max_depth=20)\n",
    "qda.fit(X_train,y_train)\n",
    "y_pre = qda.predict(X_val)\n",
    "print('F1-Score of ',qda.__class__.__name__,' : ',f1_score(y_val,y_pre))"
   ]
  },
  {
   "cell_type": "code",
   "execution_count": null,
   "metadata": {},
   "outputs": [],
   "source": [
    "y_test_pred = qda.predict(test_enc)"
   ]
  },
  {
   "cell_type": "code",
   "execution_count": null,
   "metadata": {},
   "outputs": [],
   "source": [
    "WriteData(y_test_pred, filename = 'submission_Ketzel')"
   ]
  },
  {
   "cell_type": "code",
   "execution_count": null,
   "metadata": {},
   "outputs": [],
   "source": []
  },
  {
   "cell_type": "code",
   "execution_count": null,
   "metadata": {},
   "outputs": [],
   "source": []
  },
  {
   "cell_type": "code",
   "execution_count": null,
   "metadata": {},
   "outputs": [],
   "source": []
  }
 ],
 "metadata": {
  "kernelspec": {
   "display_name": "Python 3",
   "language": "python",
   "name": "python3"
  },
  "language_info": {
   "codemirror_mode": {
    "name": "ipython",
    "version": 3
   },
   "file_extension": ".py",
   "mimetype": "text/x-python",
   "name": "python",
   "nbconvert_exporter": "python",
   "pygments_lexer": "ipython3",
   "version": "3.7.7"
  }
 },
 "nbformat": 4,
 "nbformat_minor": 4
}
