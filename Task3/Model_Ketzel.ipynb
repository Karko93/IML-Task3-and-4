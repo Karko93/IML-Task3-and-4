{
 "cells": [
  {
   "cell_type": "code",
   "execution_count": 11,
   "metadata": {},
   "outputs": [],
   "source": [
    "import pandas as pd\n",
    "import numpy as np\n",
    "from UtilityFunctions import ReadData, WriteData\n",
    "from sklearn.svm import SVC\n",
    "from sklearn.model_selection import train_test_split\n",
    "from sklearn.metrics import f1_score\n",
    "from sklearn.preprocessing import LabelEncoder\n",
    "from sklearn.preprocessing import OneHotEncoder"
   ]
  },
  {
   "cell_type": "code",
   "execution_count": 12,
   "metadata": {},
   "outputs": [],
   "source": [
    "train_features, train_labels, test_features = ReadData()"
   ]
  },
  {
   "cell_type": "code",
   "execution_count": 16,
   "metadata": {},
   "outputs": [
    {
     "name": "stdout",
     "output_type": "stream",
     "text": [
      "  (0, 2)\t1.0\n",
      "  (0, 28)\t1.0\n",
      "  (0, 58)\t1.0\n",
      "  (0, 69)\t1.0\n",
      "  (1, 4)\t1.0\n",
      "  (1, 21)\t1.0\n",
      "  (1, 46)\t1.0\n",
      "  (1, 71)\t1.0\n",
      "  (2, 8)\t1.0\n",
      "  (2, 22)\t1.0\n",
      "  (2, 53)\t1.0\n",
      "  (2, 72)\t1.0\n",
      "  (3, 4)\t1.0\n",
      "  (3, 31)\t1.0\n",
      "  (3, 58)\t1.0\n",
      "  (3, 67)\t1.0\n",
      "  (4, 11)\t1.0\n",
      "  (4, 28)\t1.0\n",
      "  (4, 54)\t1.0\n",
      "  (4, 70)\t1.0\n",
      "  (5, 7)\t1.0\n",
      "  (5, 38)\t1.0\n",
      "  (5, 46)\t1.0\n",
      "  (5, 60)\t1.0\n",
      "  (6, 5)\t1.0\n",
      "  :\t:\n",
      "  (111993, 66)\t1.0\n",
      "  (111994, 11)\t1.0\n",
      "  (111994, 32)\t1.0\n",
      "  (111994, 52)\t1.0\n",
      "  (111994, 70)\t1.0\n",
      "  (111995, 5)\t1.0\n",
      "  (111995, 35)\t1.0\n",
      "  (111995, 50)\t1.0\n",
      "  (111995, 63)\t1.0\n",
      "  (111996, 2)\t1.0\n",
      "  (111996, 29)\t1.0\n",
      "  (111996, 52)\t1.0\n",
      "  (111996, 76)\t1.0\n",
      "  (111997, 15)\t1.0\n",
      "  (111997, 25)\t1.0\n",
      "  (111997, 46)\t1.0\n",
      "  (111997, 61)\t1.0\n",
      "  (111998, 8)\t1.0\n",
      "  (111998, 27)\t1.0\n",
      "  (111998, 45)\t1.0\n",
      "  (111998, 76)\t1.0\n",
      "  (111999, 12)\t1.0\n",
      "  (111999, 25)\t1.0\n",
      "  (111999, 52)\t1.0\n",
      "  (111999, 76)\t1.0\n"
     ]
    }
   ],
   "source": [
    "print(train_features)"
   ]
  },
  {
   "cell_type": "code",
   "execution_count": 4,
   "metadata": {},
   "outputs": [],
   "source": [
    "label= LabelEncoder()\n",
    "for i in range(train_features.shape[1]):\n",
    "    train_features[:,i]= label.fit_transform(train_features[:,i])\n",
    "    test_features[:,i]= label.transform(test_features[:,i])"
   ]
  },
  {
   "cell_type": "code",
   "execution_count": 5,
   "metadata": {},
   "outputs": [
    {
     "name": "stdout",
     "output_type": "stream",
     "text": [
      "[[2 8 1 9]\n",
      " [4 1 6 1]]\n"
     ]
    }
   ],
   "source": [
    "print(train_features[0:2,:].astype(np.int))"
   ]
  },
  {
   "cell_type": "code",
   "execution_count": 14,
   "metadata": {},
   "outputs": [],
   "source": [
    "one=OneHotEncoder()\n",
    "train_features = one.fit_transform(train_features)\n",
    "test_features=one.transform(test_features)"
   ]
  },
  {
   "cell_type": "code",
   "execution_count": 15,
   "metadata": {},
   "outputs": [
    {
     "name": "stdout",
     "output_type": "stream",
     "text": [
      "  (0, 2)\t1.0\n",
      "  (0, 28)\t1.0\n",
      "  (0, 58)\t1.0\n",
      "  (0, 69)\t1.0\n",
      "  (1, 4)\t1.0\n",
      "  (1, 21)\t1.0\n",
      "  (1, 46)\t1.0\n",
      "  (1, 71)\t1.0\n"
     ]
    }
   ],
   "source": [
    "print(train_features[0:2,:])"
   ]
  },
  {
   "cell_type": "code",
   "execution_count": 6,
   "metadata": {},
   "outputs": [],
   "source": [
    "train_features = train_features.astype(np.int)\n",
    "test_features = test_features.astype(np.int)"
   ]
  },
  {
   "cell_type": "code",
   "execution_count": 7,
   "metadata": {},
   "outputs": [],
   "source": [
    "X_train, X_val, y_train, y_val = train_test_split(train_features, train_labels, test_size= 0.2)"
   ]
  },
  {
   "cell_type": "code",
   "execution_count": 8,
   "metadata": {},
   "outputs": [
    {
     "name": "stdout",
     "output_type": "stream",
     "text": [
      "[[1 7 1 9]\n",
      " [1 2 9 1]]\n"
     ]
    }
   ],
   "source": [
    "print(X_train[0:2,:])"
   ]
  },
  {
   "cell_type": "code",
   "execution_count": null,
   "metadata": {},
   "outputs": [],
   "source": [
    "y_val_pred  = model.predict(X_val)"
   ]
  },
  {
   "cell_type": "code",
   "execution_count": null,
   "metadata": {},
   "outputs": [],
   "source": [
    "f1 = f1_score(y_val_pred,y_val)\n",
    "print(f1)"
   ]
  },
  {
   "cell_type": "code",
   "execution_count": null,
   "metadata": {},
   "outputs": [],
   "source": [
    "y_test_pred = model.predict(test_features)"
   ]
  },
  {
   "cell_type": "code",
   "execution_count": null,
   "metadata": {},
   "outputs": [],
   "source": [
    "WriteData(y_test_pred, filename = 'submission1')"
   ]
  },
  {
   "cell_type": "code",
   "execution_count": null,
   "metadata": {},
   "outputs": [],
   "source": []
  },
  {
   "cell_type": "code",
   "execution_count": null,
   "metadata": {},
   "outputs": [],
   "source": [
    "X_train.shape"
   ]
  },
  {
   "cell_type": "code",
   "execution_count": null,
   "metadata": {},
   "outputs": [],
   "source": []
  },
  {
   "cell_type": "code",
   "execution_count": null,
   "metadata": {},
   "outputs": [],
   "source": [
    "print(X_train[0:2,:])"
   ]
  },
  {
   "cell_type": "code",
   "execution_count": 17,
   "metadata": {},
   "outputs": [],
   "source": [
    "from sklearn.linear_model import LogisticRegression"
   ]
  },
  {
   "cell_type": "code",
   "execution_count": 18,
   "metadata": {},
   "outputs": [
    {
     "name": "stdout",
     "output_type": "stream",
     "text": [
      "F1-Score :  0.0\n"
     ]
    }
   ],
   "source": [
    "lr=LogisticRegression()\n",
    "lr.fit(X_train,y_train)\n",
    "y_pre=lr.predict(X_val)\n",
    "print('F1-Score : ',f1_score(y_val,y_pre))"
   ]
  },
  {
   "cell_type": "code",
   "execution_count": null,
   "metadata": {},
   "outputs": [],
   "source": []
  }
 ],
 "metadata": {
  "kernelspec": {
   "display_name": "Python 3",
   "language": "python",
   "name": "python3"
  },
  "language_info": {
   "codemirror_mode": {
    "name": "ipython",
    "version": 3
   },
   "file_extension": ".py",
   "mimetype": "text/x-python",
   "name": "python",
   "nbconvert_exporter": "python",
   "pygments_lexer": "ipython3",
   "version": "3.7.7"
  }
 },
 "nbformat": 4,
 "nbformat_minor": 4
}
