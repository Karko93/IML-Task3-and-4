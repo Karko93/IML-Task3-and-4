{
 "cells": [
  {
   "cell_type": "code",
   "execution_count": 1,
   "metadata": {},
   "outputs": [],
   "source": [
    "import pandas as pd\n",
    "import numpy as np\n",
    "import csv \n",
    "from UtilityFunctions import ReadData_int, WriteData, ReadData_char\n",
    "from sklearn.model_selection import train_test_split\n",
    "from sklearn.preprocessing import OneHotEncoder\n",
    "from sklearn.preprocessing import OrdinalEncoder\n",
    "from sklearn.preprocessing import StandardScaler\n",
    "from sklearn.neural_network import MLPClassifier\n",
    "from sklearn.metrics import f1_score"
   ]
  },
  {
   "cell_type": "code",
   "execution_count": 2,
   "metadata": {},
   "outputs": [],
   "source": [
    "train_features, train_labels, test_features = ReadData_char()"
   ]
  },
  {
   "cell_type": "code",
   "execution_count": 3,
   "metadata": {},
   "outputs": [],
   "source": [
    "def combine_columns(arr):\n",
    "    combined =np.apply_along_axis(lambda d: d[0]+d[1],1,arr)\n",
    "    print(combined.shape,arr.shape,np.unique(combined).shape)\n",
    "    return combined"
   ]
  },
  {
   "cell_type": "code",
   "execution_count": 4,
   "metadata": {},
   "outputs": [
    {
     "name": "stdout",
     "output_type": "stream",
     "text": [
      "(112000,) (112000, 2) (400,)\n",
      "(112000,) (112000, 2) (400,)\n",
      "(112000,) (112000, 2) (400,)\n",
      "(48000,) (48000, 2) (400,)\n",
      "(48000,) (48000, 2) (400,)\n",
      "(48000,) (48000, 2) (400,)\n"
     ]
    }
   ],
   "source": [
    "train_features = np.column_stack((combine_columns(train_features[:,0:2]),combine_columns(train_features[:,1:3]),combine_columns(train_features[:,2:])))\n",
    "test_features = np.column_stack((combine_columns(test_features[:,0:2]),combine_columns(test_features[:,1:3]),combine_columns(test_features[:,2:])))"
   ]
  },
  {
   "cell_type": "code",
   "execution_count": 5,
   "metadata": {},
   "outputs": [],
   "source": [
    "\n",
    "ordinalEncoder = OrdinalEncoder(dtype= np.int64)\n",
    "ordinalEncoder.fit(train_features)\n",
    "train_enc = ordinalEncoder.transform(train_features)\n",
    "test_enc = ordinalEncoder.transform(test_features)\n",
    "\n",
    "one = OneHotEncoder()\n",
    "one.fit(train_enc)\n",
    "train_enc = one.transform(train_enc).toarray()\n",
    "test_enc = one.transform(test_enc).toarray()"
   ]
  },
  {
   "cell_type": "code",
   "execution_count": null,
   "metadata": {},
   "outputs": [],
   "source": []
  },
  {
   "cell_type": "code",
   "execution_count": 6,
   "metadata": {},
   "outputs": [],
   "source": [
    "X_train, X_val, y_train, y_val = train_test_split(train_enc, train_labels, test_size= 0.2)"
   ]
  },
  {
   "cell_type": "code",
   "execution_count": 7,
   "metadata": {},
   "outputs": [],
   "source": [
    "std_scaler = StandardScaler()\n",
    "std_scaler.fit(X_train)\n",
    "X_train_trsf = std_scaler.transform(X_train)\n",
    "X_val_trsf = std_scaler.transform(X_val)\n",
    "X_test_trsf = std_scaler.transform(test_enc)"
   ]
  },
  {
   "cell_type": "code",
   "execution_count": 8,
   "metadata": {},
   "outputs": [],
   "source": [
    "def neuralNet(X,y):\n",
    "    mlpclass = MLPClassifier(hidden_layer_sizes=(100, 100), max_iter=120, verbose=10, solver='adam', alpha=0.0001, batch_size='auto')\n",
    "    mlpclass.fit(X,y)\n",
    "    \n",
    "    return mlpclass"
   ]
  },
  {
   "cell_type": "code",
   "execution_count": 9,
   "metadata": {},
   "outputs": [],
   "source": [
    "def predict_class(model,X,y = None):\n",
    "    y_pred = model.predict(X)\n",
    "    return y_pred"
   ]
  },
  {
   "cell_type": "code",
   "execution_count": 10,
   "metadata": {},
   "outputs": [
    {
     "name": "stdout",
     "output_type": "stream",
     "text": [
      "Iteration 1, loss = 0.07187065\n",
      "Iteration 2, loss = 0.03010814\n",
      "Iteration 3, loss = 0.01772072\n",
      "Iteration 4, loss = 0.00993492\n",
      "Iteration 5, loss = 0.00519871\n",
      "Iteration 6, loss = 0.00301533\n",
      "Iteration 7, loss = 0.00181800\n",
      "Iteration 8, loss = 0.00128708\n",
      "Iteration 9, loss = 0.00272834\n",
      "Iteration 10, loss = 0.00305266\n",
      "Iteration 11, loss = 0.00211732\n",
      "Iteration 12, loss = 0.00125578\n",
      "Iteration 13, loss = 0.00091448\n",
      "Iteration 14, loss = 0.00110858\n",
      "Iteration 15, loss = 0.00165475\n",
      "Iteration 16, loss = 0.00075678\n",
      "Iteration 17, loss = 0.00103064\n",
      "Iteration 18, loss = 0.00096106\n",
      "Iteration 19, loss = 0.00032429\n",
      "Iteration 20, loss = 0.00090642\n",
      "Iteration 21, loss = 0.00151522\n",
      "Iteration 22, loss = 0.00142856\n",
      "Iteration 23, loss = 0.00113330\n",
      "Iteration 24, loss = 0.00124540\n",
      "Iteration 25, loss = 0.00046014\n",
      "Iteration 26, loss = 0.00047646\n",
      "Iteration 27, loss = 0.00034892\n",
      "Iteration 28, loss = 0.00057369\n",
      "Iteration 29, loss = 0.00125808\n",
      "Iteration 30, loss = 0.00169192\n",
      "Training loss did not improve more than tol=0.000100 for 10 consecutive epochs. Stopping.\n"
     ]
    }
   ],
   "source": [
    "mlp = neuralNet(X_train_trsf,y_train)"
   ]
  },
  {
   "cell_type": "code",
   "execution_count": 12,
   "metadata": {},
   "outputs": [
    {
     "name": "stdout",
     "output_type": "stream",
     "text": [
      "F1-score is 0.7444444444444444\n"
     ]
    }
   ],
   "source": [
    "y_val_pred = predict_class(mlp,X_val_trsf)\n",
    "print(\"F1-score is\", f1_score(y_val_pred,y_val))"
   ]
  },
  {
   "cell_type": "code",
   "execution_count": null,
   "metadata": {},
   "outputs": [],
   "source": [
    "y_test_pred = predict_class(mlp,X_test_trsf)"
   ]
  },
  {
   "cell_type": "code",
   "execution_count": null,
   "metadata": {},
   "outputs": [],
   "source": [
    "#we return the data to the csv file   \n",
    "filename = \"submission_Ketzel.csv\"\n",
    "  \n",
    "# writing to csv file \n",
    "with open(filename, 'w') as csvfile:\n",
    "    # creating a csv writer object \n",
    "    csvwriter = csv.writer(csvfile)    \n",
    "    # writing the data rows \n",
    "    csvwriter.writerows(output_data)"
   ]
  }
 ],
 "metadata": {
  "kernelspec": {
   "display_name": "Python 3",
   "language": "python",
   "name": "python3"
  },
  "language_info": {
   "codemirror_mode": {
    "name": "ipython",
    "version": 3
   },
   "file_extension": ".py",
   "mimetype": "text/x-python",
   "name": "python",
   "nbconvert_exporter": "python",
   "pygments_lexer": "ipython3",
   "version": "3.7.7"
  }
 },
 "nbformat": 4,
 "nbformat_minor": 4
}
