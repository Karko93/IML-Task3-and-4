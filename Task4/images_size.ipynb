{
 "cells": [
  {
   "cell_type": "code",
   "execution_count": 11,
   "metadata": {},
   "outputs": [],
   "source": [
    "import numpy as np\n",
    "import os"
   ]
  },
  {
   "cell_type": "code",
   "execution_count": 12,
   "metadata": {},
   "outputs": [],
   "source": [
    "f_dir = 'food'\n",
    "files = os.listdir(f_dir)"
   ]
  },
  {
   "cell_type": "code",
   "execution_count": 15,
   "metadata": {},
   "outputs": [
    {
     "name": "stdout",
     "output_type": "stream",
     "text": [
      "smallest image width:  426 \n",
      " smallest image height:  297\n",
      "largest image width:  464 \n",
      " largest image height:  324\n"
     ]
    }
   ],
   "source": [
    "min_width = 2000\n",
    "min_height = 2000\n",
    "max_width = 0\n",
    "max_height = 0\n",
    "for file in files[0:2]:\n",
    "    img = Image.open(os.path.join(f_dir, file))\n",
    "    img_width = img.size[0]\n",
    "    img_height = img.size[1]\n",
    "    if img_width < min_width:\n",
    "        min_width = img_width\n",
    "    \n",
    "    if img_height < min_height:\n",
    "        min_height = img_height\n",
    "        \n",
    "    if img_width > max_width:\n",
    "        max_width = img_width\n",
    "    \n",
    "    if img_height > max_height:\n",
    "        max_height = img_height\n",
    "\n",
    "print('smallest image width: ', min_width, '\\n','smallest image height: ', min_height)\n",
    "print('largest image width: ', max_width, '\\n','largest image height: ', max_height)\n",
    "        "
   ]
  },
  {
   "cell_type": "code",
   "execution_count": null,
   "metadata": {},
   "outputs": [],
   "source": []
  }
 ],
 "metadata": {
  "kernelspec": {
   "display_name": "Python 3",
   "language": "python",
   "name": "python3"
  },
  "language_info": {
   "codemirror_mode": {
    "name": "ipython",
    "version": 3
   },
   "file_extension": ".py",
   "mimetype": "text/x-python",
   "name": "python",
   "nbconvert_exporter": "python",
   "pygments_lexer": "ipython3",
   "version": "3.7.7"
  }
 },
 "nbformat": 4,
 "nbformat_minor": 4
}
