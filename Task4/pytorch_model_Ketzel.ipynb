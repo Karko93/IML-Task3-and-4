{
 "cells": [
  {
   "cell_type": "code",
   "execution_count": 47,
   "metadata": {},
   "outputs": [],
   "source": [
    "import numpy as np\n",
    "import os\n",
    "import torchvision\n",
    "from torchvision import datasets, transforms\n",
    "from torch.utils.data import Dataset\n",
    "import torch.utils.data as datatorch\n",
    "import torch.nn as nn\n",
    "import pandas as pd\n",
    "import torch\n",
    "from PIL import Image\n",
    "import cv2\n",
    "import torch.backends.cudnn as cudnn"
   ]
  },
  {
   "cell_type": "code",
   "execution_count": 48,
   "metadata": {},
   "outputs": [],
   "source": [
    "train_triplets = np.loadtxt('train_triplets.txt', dtype= 'str')\n",
    "test_triplets = np.loadtxt('test_triplets.txt', dtype= 'str')"
   ]
  },
  {
   "cell_type": "code",
   "execution_count": 40,
   "metadata": {},
   "outputs": [
    {
     "name": "stdout",
     "output_type": "stream",
     "text": [
      "(59544, 3)\n"
     ]
    }
   ],
   "source": [
    "print(test_triplets.shape)"
   ]
  },
  {
   "cell_type": "markdown",
   "metadata": {},
   "source": [
    "print(train_triplets.shape)\n",
    "#print()\n",
    "half_index = np.int64((train_triplets.shape[0]-train_triplets.shape[0]%2)/2)\n",
    "print(half_index)\n",
    "train_labels = np.int64(np.ones((train_triplets.shape[0],)))\n",
    "print(train_labels.shape)\n",
    "train_triplets[half_index:, 0], train_triplets[half_index:, 1] = train_triplets[half_index:, 1], train_triplets[half_index:, 0].copy()\n",
    "train_labels[half_index:] = np.zeros((half_index+1,))"
   ]
  },
  {
   "cell_type": "code",
   "execution_count": 49,
   "metadata": {},
   "outputs": [],
   "source": [
    "train_dir = 'food/food'\n",
    "train_files = os.listdir(train_dir)\n",
    "test_files = os.listdir(train_dir)\n",
    "\n",
    "\n",
    "class ImageTriplesSet(Dataset):\n",
    "    def __init__(self , file_array, dir, mode='train', transform = None,labels =None):\n",
    "        self.triple_list = list(map(tuple, file_array))\n",
    "        self.mode = mode\n",
    "        self.labels = labels\n",
    "        self.dir = dir\n",
    "        self.transform = transform\n",
    "        \n",
    "    def __len__(self):\n",
    "        return len(self.triple_list)\n",
    "    \n",
    "    def __getitem__(self,idx):\n",
    "        img1 = Image.open(os.path.join(self.dir, self.triple_list[idx][0] + '.jpg'))\n",
    "        img2 = Image.open(os.path.join(self.dir, self.triple_list[idx][1] + '.jpg'))\n",
    "        img3 = Image.open(os.path.join(self.dir, self.triple_list[idx][2] + '.jpg'))\n",
    "        \n",
    "        \n",
    "        if self.transform is not None:\n",
    "            img1 = self.transform(img1).numpy()\n",
    "            img2 = self.transform(img2).numpy()\n",
    "            img3 = self.transform(img3).numpy()\n",
    "        \n",
    "        return img1, img2, img3\n",
    "            \n",
    "        #concat_img = cv2.hconcat([img1, img2, img3]).astype('float32')\n",
    "        #if self.mode == 'train':\n",
    "            #label = self.labels[idx]\n",
    "            #return concat_img , label\n",
    "            \n",
    "        #else:\n",
    "            #return concat_img, int(self.triple_list[idx][:-4])\n",
    "        \n",
    "#data_transform = transforms.Compose([\n",
    "  #  transforms.Resize(350,240),\n",
    "  #  transforms.CenterCrop(240),\n",
    "  #  transforms.ToTensor()\n",
    "#])\n",
    "\n",
    "data_transform = transforms.Compose([\n",
    "        transforms.Resize(224),\n",
    "        transforms.CenterCrop(224),\n",
    "        transforms.ToTensor(),\n",
    "        transforms.Normalize(mean=[0.485, 0.456, 0.406], std=[\n",
    "                             0.229, 0.224, 0.225])\n",
    "    ])\n",
    "\n",
    "train_dataset = ImageTriplesSet(train_triplets, train_dir, transform = data_transform, labels = None)\n",
    "test_dataset = ImageTriplesSet(test_triplets, train_dir, mode=\"test\" ,transform = data_transform,labels = None)"
   ]
  },
  {
   "cell_type": "code",
   "execution_count": 5,
   "metadata": {},
   "outputs": [
    {
     "name": "stderr",
     "output_type": "stream",
     "text": [
      "Using cache found in C:\\Users\\user/.cache\\torch\\hub\\pytorch_vision_master\n"
     ]
    }
   ],
   "source": [
    "model = torch.hub.load('pytorch/vision', 'resnet18', pretrained=False)"
   ]
  },
  {
   "cell_type": "code",
   "execution_count": 6,
   "metadata": {},
   "outputs": [
    {
     "name": "stdout",
     "output_type": "stream",
     "text": [
      "training loss:  1.0816729991666731\n",
      "training loss:  0.9604075531805715\n",
      "training loss:  0.9788847238786759\n",
      "training loss:  0.9715509587718595\n",
      "training loss:  0.9325781599167855\n",
      "training loss:  0.9273840304343931\n",
      "training loss:  0.9297231128138881\n",
      "training loss:  0.8827374289112706\n",
      "training loss:  0.9238928517987651\n",
      "training loss:  0.8884425547815138\n",
      "training loss:  0.9014501360154921\n",
      "training loss:  0.900470289491838\n",
      "training loss:  0.861397966261833\n",
      "training loss:  0.8739355802536011\n",
      "training loss:  0.9185413622087047\n",
      "training loss:  0.863117677550162\n",
      "training loss:  0.8725155822692379\n",
      "training loss:  0.8755758866187064\n",
      "training loss:  0.8359770986341661\n",
      "training loss:  0.8875800255806215\n",
      "training loss:  0.843265623815598\n",
      "training loss:  0.862313449382782\n",
      "training loss:  0.8233311522391534\n",
      "training loss:  0.8643846434931601\n",
      "training loss:  0.8489478864977437\n",
      "training loss:  0.8717714894202447\n",
      "training loss:  0.8888335939376585\n",
      "training loss:  0.8255135820757958\n",
      "training loss:  0.7987670273550095\n",
      "training loss:  0.8510995814877171\n",
      "training loss:  0.8175992446561013\n",
      "training loss:  0.7820789871677276\n",
      "training loss:  0.7626623559382654\n",
      "training loss:  0.7816494261064837\n",
      "training loss:  0.8329322703423039\n",
      "training loss:  0.8183590519812799\n",
      "training loss:  0.8125462416679629\n",
      "training loss:  0.7905744833330954\n",
      "training loss:  0.7685551874099239\n",
      "training loss:  0.8128237589713065\n",
      "training loss:  0.7857604930477757\n",
      "training loss:  0.7830846194298037\n",
      "training loss:  0.7870591263617238\n",
      "training loss:  0.7441071041168705\n",
      "training loss:  0.6946265399456024\n",
      "training loss:  0.7703592854161416\n",
      "training loss:  0.7237997728009378\n",
      "training loss:  0.7201695499881622\n",
      "training loss:  0.7627661093588798\n",
      "training loss:  0.7343061989353549\n",
      "training loss:  0.7434051805926908\n",
      "training loss:  0.7066904219888872\n",
      "training loss:  0.7170795625255953\n",
      "training loss:  0.6898688327881598\n",
      "training loss:  0.6610322940734125\n",
      "training loss:  0.6915745341008709\n",
      "training loss:  0.6943951018394963\n",
      "training loss:  0.6683664302672109\n",
      "training loss:  0.6647781277856519\n",
      "training loss:  0.6594876416267887\n"
     ]
    }
   ],
   "source": [
    "learning_rate = 0.001\n",
    "batch_size = 32\n",
    "epochs = 1\n",
    "logstep = int(1000 // batch_size)\n",
    "\n",
    "train_loader = datatorch.DataLoader(dataset=train_dataset, \n",
    "                         shuffle=True, \n",
    "                         batch_size=batch_size)\n",
    "\n",
    "test_loader = datatorch.DataLoader(dataset=test_dataset, shuffle = False, batch_size= batch_size)\n",
    "\n",
    "#model.fc = nn.Sequential(nn.Linear(model.fc.in_features,512),\n",
    "                                  #nn.ReLU(),\n",
    "                                  #nn.Dropout(),\n",
    "                                  #nn.Linear(512, 2))\n",
    "            \n",
    "model.fc = nn.Sequential(nn.Linear(model.fc.in_features,512),\n",
    "                                  #nn.ReLU(),\n",
    "                                  \n",
    "                                  nn.Linear(512, 4096))\n",
    "\n",
    "#net = TripletNet(resnet101())\n",
    "           \n",
    "            \n",
    "\n",
    "device = torch.device(\"cuda:0\" if torch.cuda.is_available() else \"cpu\")\n",
    "#device = torch.device(\"cuda:0\")\n",
    "model =model.to(device)\n",
    "#net = torch.nn.DataParallel(net).cuda()\n",
    "#cudnn.benchmark = True\n",
    " #create optimizer\n",
    "criterion = nn.TripletMarginLoss(margin=1.0, p=2)\n",
    "optimizer = torch.optim.SGD(model.parameters(),lr=learning_rate,momentum=0.9,weight_decay=1e-5,nesterov=True)\n",
    "\n",
    "#scheduler = torch.optim.lr_scheduler.ReduceLROnPlateau(optimizer,mode='min',factor=0.1,patience=10,verbose=True)\n",
    "#optimizer = torch.optim.SGD(model.parameters(), lr=0.01, momentum=0.9)\n",
    "#scheduler = torch.optim.lr_scheduler.MultiStepLR(optimizer, milestones=[500,1000,1500], gamma=0.5)\n",
    "\n",
    "training_loss_vec = []\n",
    "training_accuracy_vec = []\n",
    "    \n",
    "#criterion = torch.nn.CrossEntropyLoss()\n",
    "#optimizer = torch.optim.Adam(model.parameters(), lr=learning_rate)\n",
    "#optimizer = torch.optim.SGD(model.parameters(), lr=0.01, momentum=0.9)\n",
    "#scheduler = torch.optim.lr_scheduler.MultiStepLR(optimizer, milestones=[500,1000,1500], gamma=0.5)\n",
    "\n",
    "    \n",
    "    \n",
    "    \n",
    "\n",
    "# loop over epochs\n",
    "model.train()\n",
    "for e in range(epochs):\n",
    "    training_loss = 0.\n",
    "    training_accuracy = 0.\n",
    "    for idx, (data1, data2, data3) in enumerate(train_loader):\n",
    "    #for idx, (img,label) in enumerate(train_loader):\n",
    "        data1, data2, data3 = data1.cuda(), data2.cuda(), data3.cuda()\n",
    "        #img, label = img.cuda(), label.cuda()\n",
    "        #embedded_a, embedded_p, embedded_n = net(data1, data2, data3)\n",
    "        embedded_a, embedded_p, embedded_n = model(data1), model(data2), model(data3)\n",
    "        loss = criterion(embedded_a, embedded_p, embedded_n)\n",
    "        # call optimizer.zero_grad()\n",
    "        optimizer.zero_grad()\n",
    "        # compute predictions using model\n",
    "        #y_pred =  model(img)\n",
    "        # compute loss\n",
    "        \n",
    "        #loss = criterion(y_pred,label)\n",
    "        # run backward method\n",
    "        loss.backward()\n",
    "        # run optimizer step\n",
    "        optimizer.step()\n",
    "        #scheduler.step()  ######\n",
    "        # logging (optional)\n",
    "        \n",
    "        training_loss += loss.item()\n",
    "        #y_pred_idx = torch.max(y_pred.detach().cpu(),dim=1)[1]\n",
    "        #training_accuracy += torch.mean((y_pred_idx == label.cpu()).float()).item()\n",
    "        if (idx+1) % logstep == 0: \n",
    "            training_loss_vec.append(training_loss/logstep)\n",
    "            #training_accuracy_vec.append(training_accuracy/logstep)\n",
    "            print('training loss: ', training_loss/logstep)\n",
    "            training_loss, training_accuracy = 0.,0.\n",
    "   \n",
    "\n",
    "\n",
    "\n"
   ]
  },
  {
   "cell_type": "code",
   "execution_count": 44,
   "metadata": {},
   "outputs": [],
   "source": [
    "test_loader = datatorch.DataLoader(dataset=test_dataset, shuffle = False, batch_size= 1)"
   ]
  },
  {
   "cell_type": "code",
   "execution_count": 52,
   "metadata": {},
   "outputs": [],
   "source": [
    "test_triplets_pred = []\n",
    "model.eval()\n",
    "for idx, (data1, data2, data3, name1, name2, name3) in enumerate(test_loader):\n",
    "    data1, data2, data3 = data1.cuda(), data2.cuda(), data3.cuda()\n",
    "    embedded_1, embedded_2, embedded_3 = model(data1), model(data2), model(data3)\n",
    "    if torch.dist(embedded_1,embedded_3,2)>=torch.dist(embedded_1,embedded_2,2):\n",
    "        test_triplets_pred.append(str(1))\n",
    "    else:\n",
    "        test_triplets_pred.append(str(0))\n",
    "    "
   ]
  },
  {
   "cell_type": "code",
   "execution_count": 53,
   "metadata": {},
   "outputs": [
    {
     "name": "stdout",
     "output_type": "stream",
     "text": [
      "59544\n",
      "1\n"
     ]
    }
   ],
   "source": [
    "print(len(test_triplets_pred))\n",
    "print(str(1))"
   ]
  },
  {
   "cell_type": "code",
   "execution_count": 54,
   "metadata": {},
   "outputs": [],
   "source": [
    "with open('submission_Ketzel.txt', 'w') as f:\n",
    "    for item in test_triplets_pred:\n",
    "        f.write(item + '\\n')"
   ]
  },
  {
   "cell_type": "code",
   "execution_count": null,
   "metadata": {},
   "outputs": [],
   "source": []
  }
 ],
 "metadata": {
  "kernelspec": {
   "display_name": "Python 3",
   "language": "python",
   "name": "python3"
  },
  "language_info": {
   "codemirror_mode": {
    "name": "ipython",
    "version": 3
   },
   "file_extension": ".py",
   "mimetype": "text/x-python",
   "name": "python",
   "nbconvert_exporter": "python",
   "pygments_lexer": "ipython3",
   "version": "3.7.3"
  }
 },
 "nbformat": 4,
 "nbformat_minor": 4
}
