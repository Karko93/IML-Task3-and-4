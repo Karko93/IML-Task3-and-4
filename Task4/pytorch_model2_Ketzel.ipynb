{
 "cells": [
  {
   "cell_type": "code",
   "execution_count": 1,
   "metadata": {},
   "outputs": [],
   "source": [
    "import numpy as np\n",
    "import os\n",
    "import torchvision\n",
    "from torchvision import datasets, transforms\n",
    "from torch.utils.data import Dataset\n",
    "import torch.utils.data as datatorch\n",
    "import torch.nn as nn\n",
    "import pandas as pd\n",
    "import torch\n",
    "from PIL import Image\n",
    "import cv2\n",
    "import torch.backends.cudnn as cudnn\n",
    "from sklearn.model_selection import train_test_split\n",
    "from sklearn.metrics import f1_score\n",
    "from sklearn.metrics import accuracy_score\n",
    "import torch.nn.functional as F\n",
    "from training_split import split_training\n",
    "import time\n",
    "import datetime"
   ]
  },
  {
   "cell_type": "code",
   "execution_count": 2,
   "metadata": {},
   "outputs": [],
   "source": [
    "train_triplets = np.loadtxt('train_triplets.txt', dtype= 'str')\n",
    "#train_triplets, val_triplets, _unused = split_training()\n",
    "test_triplets = np.loadtxt('test_triplets.txt', dtype= 'str')"
   ]
  },
  {
   "cell_type": "code",
   "execution_count": 3,
   "metadata": {},
   "outputs": [
    {
     "name": "stdout",
     "output_type": "stream",
     "text": [
      "(59515, 3)\n",
      "(53563, 3) (5952, 3)\n",
      "2976\n",
      "(5952,)\n"
     ]
    }
   ],
   "source": [
    "print(train_triplets.shape)\n",
    "train_triplets, val_triplets = train_test_split(train_triplets, test_size = 0.1)\n",
    "print(train_triplets.shape, val_triplets.shape)\n",
    "half_index = np.int64((val_triplets.shape[0]-val_triplets.shape[0]%2)/2)\n",
    "print(half_index)\n",
    "val_labels = np.int64(np.ones((val_triplets.shape[0],)))\n",
    "print(val_labels.shape)\n",
    "val_triplets[half_index:, 1], val_triplets[half_index:, 2] = val_triplets[half_index:, 2], val_triplets[half_index:, 1].copy()\n",
    "val_labels[half_index:] = np.int64(0)"
   ]
  },
  {
   "cell_type": "code",
   "execution_count": 4,
   "metadata": {},
   "outputs": [
    {
     "name": "stdout",
     "output_type": "stream",
     "text": [
      "(59544, 3)\n"
     ]
    }
   ],
   "source": [
    "print(test_triplets.shape)"
   ]
  },
  {
   "cell_type": "markdown",
   "metadata": {},
   "source": [
    "print(train_triplets.shape)\n",
    "#print()\n",
    "train_triplets , val_triplets = train_test_split(train_triplets, test_size = 0.1)\n",
    "print(train_triplets.shape, val_triplets.shape)\n",
    "half_index = np.int64((val_triplets.shape[0]-val_triplets.shape[0]%2)/2)\n",
    "print(half_index)\n",
    "val_labels = np.int64(np.ones((val_triplets.shape[0],)))\n",
    "print(val_labels.shape)\n",
    "val_triplets[half_index:, 0], val_triplets[half_index:, 1] = val_triplets[half_index:, 1], val_triplets[half_index:, 0].copy()\n",
    "val_labels[half_index:] = np.int64(0)"
   ]
  },
  {
   "cell_type": "code",
   "execution_count": 5,
   "metadata": {},
   "outputs": [],
   "source": [
    "train_dir = 'food/food'\n",
    "train_files = os.listdir(train_dir)\n",
    "test_files = os.listdir(train_dir)\n",
    "\n",
    "\n",
    "class ImageTriplesSet(Dataset):\n",
    "    def __init__(self , file_array, dir, mode='train', transform = None,labels =None):\n",
    "        self.triple_list = list(map(tuple, file_array))\n",
    "        self.mode = mode\n",
    "        self.labels = labels\n",
    "        self.dir = dir\n",
    "        self.transform = transform\n",
    "        \n",
    "    def __len__(self):\n",
    "        return len(self.triple_list)\n",
    "    \n",
    "    def __getitem__(self,idx):\n",
    "        img1 = Image.open(os.path.join(self.dir, self.triple_list[idx][0] + '.jpg'))\n",
    "        img2 = Image.open(os.path.join(self.dir, self.triple_list[idx][1] + '.jpg'))\n",
    "        img3 = Image.open(os.path.join(self.dir, self.triple_list[idx][2] + '.jpg'))\n",
    "        \n",
    "        \n",
    "        if self.transform is not None:\n",
    "            img1 = self.transform(img1).numpy()\n",
    "            img2 = self.transform(img2).numpy()\n",
    "            img3 = self.transform(img3).numpy()\n",
    "        if self.labels is None:\n",
    "            return img1, img2, img3\n",
    "        else:\n",
    "            return img1, img2, img3, self.labels[idx]\n",
    "            \n",
    "        #concat_img = cv2.hconcat([img1, img2, img3]).astype('float32')\n",
    "        #if self.mode == 'train':\n",
    "            #label = self.labels[idx]\n",
    "            #return concat_img , label\n",
    "            \n",
    "        #else:\n",
    "            #return concat_img, int(self.triple_list[idx][:-4])\n",
    "        \n",
    "#data_transform = transforms.Compose([\n",
    "  #  transforms.Resize(350,240),\n",
    "  #  transforms.CenterCrop(240),\n",
    "  #  transforms.ToTensor()\n",
    "#])\n",
    "\n",
    "data_transform = transforms.Compose([\n",
    "        transforms.Resize(330),\n",
    "        transforms.CenterCrop(300),\n",
    "        transforms.ToTensor(),\n",
    "        transforms.Normalize(mean=[0.485, 0.456, 0.406], std=[0.229, 0.224, 0.225])\n",
    "    ])\n",
    "\n",
    "train_dataset = ImageTriplesSet(train_triplets, train_dir, transform = data_transform, labels = None)\n",
    "val_dataset = ImageTriplesSet(val_triplets, train_dir, transform= data_transform, labels = None)\n",
    "test_dataset = ImageTriplesSet(test_triplets, train_dir, mode=\"test\" ,transform = data_transform,labels = None)"
   ]
  },
  {
   "cell_type": "markdown",
   "metadata": {},
   "source": [
    "model = torch.nn.Sequential(\n",
    "            torch.nn.Conv2d(in_channels=3, out_channels=64, kernel_size=(5,5)),\n",
    "            torch.nn.ReLU(),\n",
    "            torch.nn.MaxPool2d((2,2)),\n",
    "            torch.nn.Conv2d(in_channels=64, out_channels=128, kernel_size=(3,3)),\n",
    "            torch.nn.ReLU(),\n",
    "            torch.nn.MaxPool2d((2,2)),\n",
    "            torch.nn.Conv2d(in_channels=128, out_channels=256, kernel_size=(3,3)),\n",
    "            torch.nn.ReLU(),\n",
    "            torch.nn.MaxPool2d((2,2)),\n",
    "            torch.nn.Conv2d(in_channels=256, out_channels=128, kernel_size=(2,2))\n",
    ")"
   ]
  },
  {
   "cell_type": "code",
   "execution_count": 6,
   "metadata": {},
   "outputs": [],
   "source": [
    "#model = torch.hub.load('pytorch/vision', 'resnet34', pretrained=True)"
   ]
  },
  {
   "cell_type": "code",
   "execution_count": 7,
   "metadata": {},
   "outputs": [
    {
     "name": "stdout",
     "output_type": "stream",
     "text": [
      "0:00:01.466628\n"
     ]
    }
   ],
   "source": [
    "learning_rate = 0.5\n",
    "batch_size = 8\n",
    "epochs = 3\n",
    "logstep = int(10000 // batch_size)\n",
    "\n",
    "train_loader = datatorch.DataLoader(dataset=train_dataset, shuffle=False, batch_size=batch_size)\n",
    "\n",
    "\n",
    "model = torch.nn.Sequential(\n",
    "            torch.nn.Conv2d(in_channels=3, out_channels=64, kernel_size=(5,5)),\n",
    "            torch.nn.ReLU(),\n",
    "            torch.nn.MaxPool2d((2,2)),\n",
    "            torch.nn.Conv2d(in_channels=64, out_channels=128, kernel_size=(3,3)),\n",
    "            torch.nn.ReLU(),\n",
    "            torch.nn.MaxPool2d((2,2)),\n",
    "            torch.nn.Conv2d(in_channels=128, out_channels=256, kernel_size=(3,3)),\n",
    "            torch.nn.ReLU(),\n",
    "            torch.nn.MaxPool2d((2,2)),\n",
    "            torch.nn.Conv2d(in_channels=256, out_channels=128, kernel_size=(2,2)),\n",
    ")\n",
    "\n",
    "\n",
    "device = torch.device(\"cuda:0\" if torch.cuda.is_available() else \"cpu\")\n",
    "model = model.to(device)\n",
    "criterion = nn.TripletMarginLoss(margin=1.0, p=2)\n",
    "optimizer = torch.optim.SGD(model.parameters(),lr=learning_rate,momentum=0.9,weight_decay=1e-5,nesterov=True)\n",
    "\n",
    "training_loss_vec = []\n",
    "training_accuracy_vec = []\n",
    "val_f1_score = []\n",
    "\n",
    "start = time.time()\n",
    "# loop over epochs\n",
    "model.train()\n",
    "for e in range(epochs):\n",
    "    training_loss = 0.\n",
    "    training_accuracy = 0.\n",
    "    for idx, (data1, data2, data3) in enumerate(train_loader):\n",
    "        data1, data2, data3 = data1.cuda(), data2.cuda(), data3.cuda()\n",
    "        embedded_a, embedded_p, embedded_n = model(data1), model(data2), model(data3)\n",
    "        loss = criterion(embedded_a, embedded_p, embedded_n)\n",
    "        optimizer.zero_grad()\n",
    "        loss.backward()\n",
    "        optimizer.step()\n",
    "        training_loss += loss.item()\n",
    "        break\n",
    "        if (idx+1) % logstep == 0: \n",
    "            training_loss_vec.append(training_loss/logstep)\n",
    "            print('[%d, %5d] training loss: %.5f' %\n",
    "                  (e + 1, idx + 1, training_loss/logstep))\n",
    "            training_loss, training_accuracy = 0.,0.\n",
    "            break \n",
    "end = time.time()\n",
    "print(str(datetime.timedelta(seconds= end - start)))"
   ]
  },
  {
   "cell_type": "code",
   "execution_count": 8,
   "metadata": {},
   "outputs": [
    {
     "data": {
      "image/png": "[encoded data removed]",
      "text/plain": [
       "<Figure size 432x288 with 1 Axes>"
      ]
     },
     "metadata": {
      "needs_background": "light"
     },
     "output_type": "display_data"
    }
   ],
   "source": [
    "import matplotlib.pyplot as plt\n",
    "%matplotlib inline\n",
    "plt.plot(logstep*np.arange(1,1+len(training_loss_vec)),np.array(training_loss_vec))\n",
    "plt.ylabel(\"loss criterion\")\n",
    "plt.xlabel(\"iteration\")\n",
    "plt.show()"
   ]
  },
  {
   "cell_type": "code",
   "execution_count": 9,
   "metadata": {
    "scrolled": true
   },
   "outputs": [
    {
     "name": "stdout",
     "output_type": "stream",
     "text": [
      "torch.Size([8, 128, 34, 34])\n"
     ]
    },
    {
     "ename": "RuntimeError",
     "evalue": "Given groups=1, weight of size 64 3 5 5, expected input[8, 128, 34, 34] to have 3 channels, but got 128 channels instead",
     "output_type": "error",
     "traceback": [
      "\u001b[1;31m---------------------------------------------------------------------------\u001b[0m",
      "\u001b[1;31mRuntimeError\u001b[0m                              Traceback (most recent call last)",
      "\u001b[1;32m<ipython-input-9-a29c694053c8>\u001b[0m in \u001b[0;36m<module>\u001b[1;34m\u001b[0m\n\u001b[0;32m     39\u001b[0m \u001b[1;33m\u001b[0m\u001b[0m\n\u001b[0;32m     40\u001b[0m         \u001b[1;31m#target = torch.FloatTensor(dist_a.size()).fill_(1)\u001b[0m\u001b[1;33m\u001b[0m\u001b[1;33m\u001b[0m\u001b[1;33m\u001b[0m\u001b[0m\n\u001b[1;32m---> 41\u001b[1;33m         \u001b[0mdist_n\u001b[0m \u001b[1;33m,\u001b[0m \u001b[0mdist_p\u001b[0m \u001b[1;33m=\u001b[0m \u001b[0mmodel2\u001b[0m\u001b[1;33m(\u001b[0m\u001b[0mfeat_a\u001b[0m\u001b[1;33m)\u001b[0m\u001b[1;33m,\u001b[0m \u001b[0mmodel\u001b[0m\u001b[1;33m(\u001b[0m\u001b[0mfeat_b\u001b[0m\u001b[1;33m)\u001b[0m\u001b[1;33m\u001b[0m\u001b[1;33m\u001b[0m\u001b[0m\n\u001b[0m\u001b[0;32m     42\u001b[0m         \u001b[0mprint\u001b[0m\u001b[1;33m(\u001b[0m\u001b[0mdist_n\u001b[0m\u001b[1;33m.\u001b[0m\u001b[0msize\u001b[0m\u001b[1;33m(\u001b[0m\u001b[1;33m)\u001b[0m\u001b[1;33m)\u001b[0m\u001b[1;33m\u001b[0m\u001b[1;33m\u001b[0m\u001b[0m\n\u001b[0;32m     43\u001b[0m         \u001b[1;32mbreak\u001b[0m\u001b[1;33m\u001b[0m\u001b[1;33m\u001b[0m\u001b[0m\n",
      "\u001b[1;32m~\\Anaconda3\\lib\\site-packages\\torch\\nn\\modules\\module.py\u001b[0m in \u001b[0;36m__call__\u001b[1;34m(self, *input, **kwargs)\u001b[0m\n\u001b[0;32m    545\u001b[0m             \u001b[0mresult\u001b[0m \u001b[1;33m=\u001b[0m \u001b[0mself\u001b[0m\u001b[1;33m.\u001b[0m\u001b[0m_slow_forward\u001b[0m\u001b[1;33m(\u001b[0m\u001b[1;33m*\u001b[0m\u001b[0minput\u001b[0m\u001b[1;33m,\u001b[0m \u001b[1;33m**\u001b[0m\u001b[0mkwargs\u001b[0m\u001b[1;33m)\u001b[0m\u001b[1;33m\u001b[0m\u001b[1;33m\u001b[0m\u001b[0m\n\u001b[0;32m    546\u001b[0m         \u001b[1;32melse\u001b[0m\u001b[1;33m:\u001b[0m\u001b[1;33m\u001b[0m\u001b[1;33m\u001b[0m\u001b[0m\n\u001b[1;32m--> 547\u001b[1;33m             \u001b[0mresult\u001b[0m \u001b[1;33m=\u001b[0m \u001b[0mself\u001b[0m\u001b[1;33m.\u001b[0m\u001b[0mforward\u001b[0m\u001b[1;33m(\u001b[0m\u001b[1;33m*\u001b[0m\u001b[0minput\u001b[0m\u001b[1;33m,\u001b[0m \u001b[1;33m**\u001b[0m\u001b[0mkwargs\u001b[0m\u001b[1;33m)\u001b[0m\u001b[1;33m\u001b[0m\u001b[1;33m\u001b[0m\u001b[0m\n\u001b[0m\u001b[0;32m    548\u001b[0m         \u001b[1;32mfor\u001b[0m \u001b[0mhook\u001b[0m \u001b[1;32min\u001b[0m \u001b[0mself\u001b[0m\u001b[1;33m.\u001b[0m\u001b[0m_forward_hooks\u001b[0m\u001b[1;33m.\u001b[0m\u001b[0mvalues\u001b[0m\u001b[1;33m(\u001b[0m\u001b[1;33m)\u001b[0m\u001b[1;33m:\u001b[0m\u001b[1;33m\u001b[0m\u001b[1;33m\u001b[0m\u001b[0m\n\u001b[0;32m    549\u001b[0m             \u001b[0mhook_result\u001b[0m \u001b[1;33m=\u001b[0m \u001b[0mhook\u001b[0m\u001b[1;33m(\u001b[0m\u001b[0mself\u001b[0m\u001b[1;33m,\u001b[0m \u001b[0minput\u001b[0m\u001b[1;33m,\u001b[0m \u001b[0mresult\u001b[0m\u001b[1;33m)\u001b[0m\u001b[1;33m\u001b[0m\u001b[1;33m\u001b[0m\u001b[0m\n",
      "\u001b[1;32m~\\Anaconda3\\lib\\site-packages\\torch\\nn\\modules\\container.py\u001b[0m in \u001b[0;36mforward\u001b[1;34m(self, input)\u001b[0m\n\u001b[0;32m     90\u001b[0m     \u001b[1;32mdef\u001b[0m \u001b[0mforward\u001b[0m\u001b[1;33m(\u001b[0m\u001b[0mself\u001b[0m\u001b[1;33m,\u001b[0m \u001b[0minput\u001b[0m\u001b[1;33m)\u001b[0m\u001b[1;33m:\u001b[0m\u001b[1;33m\u001b[0m\u001b[1;33m\u001b[0m\u001b[0m\n\u001b[0;32m     91\u001b[0m         \u001b[1;32mfor\u001b[0m \u001b[0mmodule\u001b[0m \u001b[1;32min\u001b[0m \u001b[0mself\u001b[0m\u001b[1;33m.\u001b[0m\u001b[0m_modules\u001b[0m\u001b[1;33m.\u001b[0m\u001b[0mvalues\u001b[0m\u001b[1;33m(\u001b[0m\u001b[1;33m)\u001b[0m\u001b[1;33m:\u001b[0m\u001b[1;33m\u001b[0m\u001b[1;33m\u001b[0m\u001b[0m\n\u001b[1;32m---> 92\u001b[1;33m             \u001b[0minput\u001b[0m \u001b[1;33m=\u001b[0m \u001b[0mmodule\u001b[0m\u001b[1;33m(\u001b[0m\u001b[0minput\u001b[0m\u001b[1;33m)\u001b[0m\u001b[1;33m\u001b[0m\u001b[1;33m\u001b[0m\u001b[0m\n\u001b[0m\u001b[0;32m     93\u001b[0m         \u001b[1;32mreturn\u001b[0m \u001b[0minput\u001b[0m\u001b[1;33m\u001b[0m\u001b[1;33m\u001b[0m\u001b[0m\n\u001b[0;32m     94\u001b[0m \u001b[1;33m\u001b[0m\u001b[0m\n",
      "\u001b[1;32m~\\Anaconda3\\lib\\site-packages\\torch\\nn\\modules\\module.py\u001b[0m in \u001b[0;36m__call__\u001b[1;34m(self, *input, **kwargs)\u001b[0m\n\u001b[0;32m    545\u001b[0m             \u001b[0mresult\u001b[0m \u001b[1;33m=\u001b[0m \u001b[0mself\u001b[0m\u001b[1;33m.\u001b[0m\u001b[0m_slow_forward\u001b[0m\u001b[1;33m(\u001b[0m\u001b[1;33m*\u001b[0m\u001b[0minput\u001b[0m\u001b[1;33m,\u001b[0m \u001b[1;33m**\u001b[0m\u001b[0mkwargs\u001b[0m\u001b[1;33m)\u001b[0m\u001b[1;33m\u001b[0m\u001b[1;33m\u001b[0m\u001b[0m\n\u001b[0;32m    546\u001b[0m         \u001b[1;32melse\u001b[0m\u001b[1;33m:\u001b[0m\u001b[1;33m\u001b[0m\u001b[1;33m\u001b[0m\u001b[0m\n\u001b[1;32m--> 547\u001b[1;33m             \u001b[0mresult\u001b[0m \u001b[1;33m=\u001b[0m \u001b[0mself\u001b[0m\u001b[1;33m.\u001b[0m\u001b[0mforward\u001b[0m\u001b[1;33m(\u001b[0m\u001b[1;33m*\u001b[0m\u001b[0minput\u001b[0m\u001b[1;33m,\u001b[0m \u001b[1;33m**\u001b[0m\u001b[0mkwargs\u001b[0m\u001b[1;33m)\u001b[0m\u001b[1;33m\u001b[0m\u001b[1;33m\u001b[0m\u001b[0m\n\u001b[0m\u001b[0;32m    548\u001b[0m         \u001b[1;32mfor\u001b[0m \u001b[0mhook\u001b[0m \u001b[1;32min\u001b[0m \u001b[0mself\u001b[0m\u001b[1;33m.\u001b[0m\u001b[0m_forward_hooks\u001b[0m\u001b[1;33m.\u001b[0m\u001b[0mvalues\u001b[0m\u001b[1;33m(\u001b[0m\u001b[1;33m)\u001b[0m\u001b[1;33m:\u001b[0m\u001b[1;33m\u001b[0m\u001b[1;33m\u001b[0m\u001b[0m\n\u001b[0;32m    549\u001b[0m             \u001b[0mhook_result\u001b[0m \u001b[1;33m=\u001b[0m \u001b[0mhook\u001b[0m\u001b[1;33m(\u001b[0m\u001b[0mself\u001b[0m\u001b[1;33m,\u001b[0m \u001b[0minput\u001b[0m\u001b[1;33m,\u001b[0m \u001b[0mresult\u001b[0m\u001b[1;33m)\u001b[0m\u001b[1;33m\u001b[0m\u001b[1;33m\u001b[0m\u001b[0m\n",
      "\u001b[1;32m~\\Anaconda3\\lib\\site-packages\\torch\\nn\\modules\\conv.py\u001b[0m in \u001b[0;36mforward\u001b[1;34m(self, input)\u001b[0m\n\u001b[0;32m    341\u001b[0m \u001b[1;33m\u001b[0m\u001b[0m\n\u001b[0;32m    342\u001b[0m     \u001b[1;32mdef\u001b[0m \u001b[0mforward\u001b[0m\u001b[1;33m(\u001b[0m\u001b[0mself\u001b[0m\u001b[1;33m,\u001b[0m \u001b[0minput\u001b[0m\u001b[1;33m)\u001b[0m\u001b[1;33m:\u001b[0m\u001b[1;33m\u001b[0m\u001b[1;33m\u001b[0m\u001b[0m\n\u001b[1;32m--> 343\u001b[1;33m         \u001b[1;32mreturn\u001b[0m \u001b[0mself\u001b[0m\u001b[1;33m.\u001b[0m\u001b[0mconv2d_forward\u001b[0m\u001b[1;33m(\u001b[0m\u001b[0minput\u001b[0m\u001b[1;33m,\u001b[0m \u001b[0mself\u001b[0m\u001b[1;33m.\u001b[0m\u001b[0mweight\u001b[0m\u001b[1;33m)\u001b[0m\u001b[1;33m\u001b[0m\u001b[1;33m\u001b[0m\u001b[0m\n\u001b[0m\u001b[0;32m    344\u001b[0m \u001b[1;33m\u001b[0m\u001b[0m\n\u001b[0;32m    345\u001b[0m \u001b[1;32mclass\u001b[0m \u001b[0mConv3d\u001b[0m\u001b[1;33m(\u001b[0m\u001b[0m_ConvNd\u001b[0m\u001b[1;33m)\u001b[0m\u001b[1;33m:\u001b[0m\u001b[1;33m\u001b[0m\u001b[1;33m\u001b[0m\u001b[0m\n",
      "\u001b[1;32m~\\Anaconda3\\lib\\site-packages\\torch\\nn\\modules\\conv.py\u001b[0m in \u001b[0;36mconv2d_forward\u001b[1;34m(self, input, weight)\u001b[0m\n\u001b[0;32m    338\u001b[0m                             _pair(0), self.dilation, self.groups)\n\u001b[0;32m    339\u001b[0m         return F.conv2d(input, weight, self.bias, self.stride,\n\u001b[1;32m--> 340\u001b[1;33m                         self.padding, self.dilation, self.groups)\n\u001b[0m\u001b[0;32m    341\u001b[0m \u001b[1;33m\u001b[0m\u001b[0m\n\u001b[0;32m    342\u001b[0m     \u001b[1;32mdef\u001b[0m \u001b[0mforward\u001b[0m\u001b[1;33m(\u001b[0m\u001b[0mself\u001b[0m\u001b[1;33m,\u001b[0m \u001b[0minput\u001b[0m\u001b[1;33m)\u001b[0m\u001b[1;33m:\u001b[0m\u001b[1;33m\u001b[0m\u001b[1;33m\u001b[0m\u001b[0m\n",
      "\u001b[1;31mRuntimeError\u001b[0m: Given groups=1, weight of size 64 3 5 5, expected input[8, 128, 34, 34] to have 3 channels, but got 128 channels instead"
     ]
    }
   ],
   "source": [
    "learning_rate = 0.5\n",
    "epochs = 3\n",
    "train_loader = datatorch.DataLoader(dataset=train_dataset, shuffle=False, batch_size=8)\n",
    "\n",
    "model2 = torch.nn.Sequential(nn.Flatten(),\n",
    "            nn.Linear(147968,2048),\n",
    "            )\n",
    "   \n",
    "\n",
    "device = torch.device(\"cuda:0\" if torch.cuda.is_available() else \"cpu\")\n",
    "model2 =model2.to(device)\n",
    "#create optimizer\n",
    "criterion2 = nn.CrossEntropyLoss()\n",
    "optimizer2 = torch.optim.SGD(model2.parameters(),lr=learning_rate,momentum=0.9,weight_decay=1e-5,nesterov=True)\n",
    "\n",
    "training_loss_vec = []\n",
    "training_accuracy_vec = []\n",
    "val_loss_vec = []\n",
    "val_f1_score = []\n",
    "    \n",
    "\n",
    "start = time.time()\n",
    "model.eval()\n",
    "for e in range(epochs):\n",
    "    training_loss = 0.\n",
    "    training_accuracy = 0.\n",
    "    \n",
    "    model2.train()\n",
    "    for idx, (data1, data2, data3) in enumerate(train_loader):\n",
    "        data1, data2, data3 = data1.cuda(), data2.cuda(), data3.cuda()\n",
    "        embedded_a, embedded_p, embedded_n = model(data1), model(data2), model(data3)\n",
    "        \n",
    "        print(embedded_a.size())\n",
    "        \n",
    "        #feat_a = F.pairwise_distance(embedded_a, embedded_n, 2).cuda()\n",
    "        #feat_b = F.pairwise_distance(embedded_a, embedded_p, 2).cuda()\n",
    "        feat_a = embedded_n.cuda()\n",
    "        feat_b = embedded_p.cuda()\n",
    "        \n",
    "        #target = torch.FloatTensor(dist_a.size()).fill_(1)\n",
    "        dist_n , dist_p = model2(feat_a), model(feat_b)\n",
    "        print(dist_n.size())\n",
    "        break\n",
    "        print(y_pred.size())\n",
    "        loss = criterion2(y_pred,target) \n",
    "        # call optimizer.zero_grad()\n",
    "        optimizer2.zero_grad()\n",
    "        # run backward method\n",
    "        loss.backward()\n",
    "        # run optimizer step\n",
    "        optimizer2.step()\n",
    "        training_loss += loss.item()\n",
    "        y_pred_idx = torch.max(y_pred.detach().cpu(),dim=1)[1]\n",
    "        training_accuracy += torch.mean((y_pred_idx == target.cpu()).float()).item()\n",
    "        break\n",
    "        if (n+1) % logstep == 0: \n",
    "            training_loss_vec.append(training_loss/logstep)\n",
    "            training_accuracy_vec.append(training_accuracy/logstep)\n",
    "            print('training loss: ', training_loss/logstep,'traing_acc: ',training_accuracy/logstep)\n",
    "            training_loss, training_accuracy = 0.,0.\n",
    "            \n",
    "    val_labels_pred = []\n",
    "    model2.eval()\n",
    "    for idx, (data1, data2, data3) in enumerate(val_loader):\n",
    "        data1, data2, data3 = data1.cuda(), data2.cuda(), data3.cuda()\n",
    "        embedded_a, embedded_p, embedded_n = model(data1), model(data2), model(data3)\n",
    "\n",
    "        dist_a = torch.dist(embedded_a, embedded_n, 2).cuda()\n",
    "        dist_b = torch.dist(embedded_a, embedded_p, 2).cuda()\n",
    "        feat = torch.cat((dist_a, dist_b), 0)\n",
    "        output = model2(feat)\n",
    "        pred = torch.argmax(output, dim=1)\n",
    "        val_labels_pred += pred\n",
    "\n",
    "    f1 = f1_score(val_labels_pred, val_labels)\n",
    "    acc = accuracy_score(val_labels_pred, val_labels)\n",
    "    val_f1_score.append(f1)\n",
    "    print('Epoch :',e,' Current Validation F1 Score: ', f1, 'Current Val Acc:', acc)\n",
    "    \n",
    "    \n",
    "\n",
    "end = time.time()\n",
    "print(str(datetime.timedelta(seconds= end - start)))\n",
    "    "
   ]
  },
  {
   "cell_type": "code",
   "execution_count": null,
   "metadata": {},
   "outputs": [],
   "source": []
  },
  {
   "cell_type": "code",
   "execution_count": null,
   "metadata": {},
   "outputs": [],
   "source": [
    "print(len(val_labels_pred,))"
   ]
  },
  {
   "cell_type": "code",
   "execution_count": null,
   "metadata": {},
   "outputs": [],
   "source": [
    "test_loader = datatorch.DataLoader(dataset=test_dataset, shuffle = False, batch_size= 8)"
   ]
  },
  {
   "cell_type": "code",
   "execution_count": null,
   "metadata": {},
   "outputs": [],
   "source": [
    "test_triplets_pred = []\n",
    "model.eval()\n",
    "model2.eval()\n",
    "for idx, (data1, data2, data3) in enumerate(test_loader):\n",
    "    data1, data2, data3 = data1.cuda(), data2.cuda(), data3.cuda()\n",
    "    embedded_a, embedded_p, embedded_n = model(data1), model(data2), model(data3)\n",
    "    dist_a = torch.dist(embedded_a, embedded_n, 2)\n",
    "    dist_b = torch.dist(embedded_a, embedded_p, 2)\n",
    "    feat = torch.cat((dist_a, dist_b), 0).cuda()\n",
    "    output = model2(feat)\n",
    "    pred = torch.argmax(output, dim=1)\n",
    "    test_triplets_pred += pred\n",
    "    "
   ]
  },
  {
   "cell_type": "code",
   "execution_count": null,
   "metadata": {},
   "outputs": [],
   "source": [
    "print(len(test_triplets_pred))"
   ]
  },
  {
   "cell_type": "code",
   "execution_count": null,
   "metadata": {},
   "outputs": [],
   "source": [
    "with open('submission2_Ketzel.txt', 'w') as f:\n",
    "    for item in test_triplets_pred:\n",
    "        f.write(str(item) + '\\n')"
   ]
  },
  {
   "cell_type": "code",
   "execution_count": null,
   "metadata": {},
   "outputs": [],
   "source": []
  }
 ],
 "metadata": {
  "kernelspec": {
   "display_name": "Python 3",
   "language": "python",
   "name": "python3"
  },
  "language_info": {
   "codemirror_mode": {
    "name": "ipython",
    "version": 3
   },
   "file_extension": ".py",
   "mimetype": "text/x-python",
   "name": "python",
   "nbconvert_exporter": "python",
   "pygments_lexer": "ipython3",
   "version": "3.7.3"
  }
 },
 "nbformat": 4,
 "nbformat_minor": 4
}
