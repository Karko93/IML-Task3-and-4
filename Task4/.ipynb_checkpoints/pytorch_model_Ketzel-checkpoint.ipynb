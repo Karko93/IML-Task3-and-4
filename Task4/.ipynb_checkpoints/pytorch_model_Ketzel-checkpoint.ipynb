{
 "cells": [
  {
   "cell_type": "code",
   "execution_count": 1,
   "metadata": {},
   "outputs": [],
   "source": [
    "import numpy as np\n",
    "import os\n",
    "import torchvision\n",
    "from torchvision import datasets, transforms\n",
    "from torch.utils.data import Dataset\n",
    "import torch.utils.data as datatorch\n",
    "import torch.nn as nn\n",
    "import pandas as pd\n",
    "import torch\n",
    "from PIL import Image\n",
    "import cv2\n",
    "import torch.backends.cudnn as cudnn\n",
    "from sklearn.model_selection import train_test_split\n",
    "from sklearn.metrics import f1_score\n",
    "from sklearn.metrics import accuracy_score\n",
    "import torch.nn.functional as F\n",
    "from training_split import split_training\n",
    "import time\n",
    "import datetime"
   ]
  },
  {
   "cell_type": "code",
   "execution_count": 2,
   "metadata": {},
   "outputs": [],
   "source": [
    "train_triplets = np.loadtxt('train_triplets.txt', dtype= 'str')\n",
    "#train_triplets, val_triplets, _unused = split_training()\n",
    "test_triplets = np.loadtxt('test_triplets.txt', dtype= 'str')"
   ]
  },
  {
   "cell_type": "markdown",
   "metadata": {},
   "source": [
    "val_triplets = np.array(val_triplets)\n",
    "train_triplets = np.array(train_triplets)"
   ]
  },
  {
   "cell_type": "code",
   "execution_count": 3,
   "metadata": {},
   "outputs": [
    {
     "name": "stdout",
     "output_type": "stream",
     "text": [
      "(59515, 3)\n",
      "(53563, 3) (5952, 3)\n",
      "2976\n",
      "(5952,)\n"
     ]
    }
   ],
   "source": [
    "print(train_triplets.shape)\n",
    "train_triplets , val_triplets = train_test_split(train_triplets, test_size = 0.1)\n",
    "print(train_triplets.shape, val_triplets.shape)\n",
    "half_index = np.int64((val_triplets.shape[0]-val_triplets.shape[0]%2)/2)\n",
    "print(half_index)\n",
    "val_labels = np.int64(np.ones((val_triplets.shape[0],)))\n",
    "print(val_labels.shape)\n",
    "val_triplets[half_index:, 1], val_triplets[half_index:, 2] = val_triplets[half_index:, 2], val_triplets[half_index:, 1].copy()\n",
    "val_labels[half_index:] = np.int64(0)"
   ]
  },
  {
   "cell_type": "code",
   "execution_count": 4,
   "metadata": {},
   "outputs": [],
   "source": [
    "train_dir = 'food/food'\n",
    "train_files = os.listdir(train_dir)\n",
    "test_files = os.listdir(train_dir)\n",
    "\n",
    "\n",
    "class ImageTriplesSet(Dataset):\n",
    "    def __init__(self , file_array, dir, mode='train', transform = None,labels =None):\n",
    "        self.triple_list = list(map(tuple, file_array))\n",
    "        self.mode = mode\n",
    "        self.labels = labels\n",
    "        self.dir = dir\n",
    "        self.transform = transform\n",
    "        \n",
    "    def __len__(self):\n",
    "        return len(self.triple_list)\n",
    "    \n",
    "    def __getitem__(self,idx):\n",
    "        img1 = Image.open(os.path.join(self.dir, self.triple_list[idx][0] + '.jpg'))\n",
    "        img2 = Image.open(os.path.join(self.dir, self.triple_list[idx][1] + '.jpg'))\n",
    "        img3 = Image.open(os.path.join(self.dir, self.triple_list[idx][2] + '.jpg'))\n",
    "        \n",
    "        \n",
    "        if self.transform is not None:\n",
    "            img1 = self.transform(img1).numpy()\n",
    "            img2 = self.transform(img2).numpy()\n",
    "            img3 = self.transform(img3).numpy()\n",
    "        if self.labels is None:\n",
    "            return img1, img2, img3\n",
    "        else:\n",
    "            return img1, img2, img3, self.labels[idx]\n",
    "            \n",
    "        #concat_img = cv2.hconcat([img1, img2, img3]).astype('float32')\n",
    "        #if self.mode == 'train':\n",
    "            #label = self.labels[idx]\n",
    "            #return concat_img , label\n",
    "            \n",
    "        #else:\n",
    "            #return concat_img, int(self.triple_list[idx][:-4])\n",
    "        \n",
    "#data_transform = transforms.Compose([\n",
    "  #  transforms.Resize(350,240),\n",
    "  #  transforms.CenterCrop(240),\n",
    "  #  transforms.ToTensor()\n",
    "#])\n",
    "\n",
    "data_transform = transforms.Compose([\n",
    "        transforms.Resize(230),\n",
    "        transforms.CenterCrop(224),\n",
    "        transforms.ToTensor(),\n",
    "        transforms.Normalize(mean=[0.485, 0.456, 0.406], std=[0.229, 0.224, 0.225])\n",
    "    ])\n",
    "\n",
    "train_dataset = ImageTriplesSet(train_triplets, train_dir, transform = data_transform, labels = None)\n",
    "val_dataset = ImageTriplesSet(val_triplets, train_dir, transform= data_transform, labels = None)\n",
    "test_dataset = ImageTriplesSet(test_triplets, train_dir, mode=\"test\" ,transform = data_transform,labels = None)"
   ]
  },
  {
   "cell_type": "code",
   "execution_count": 5,
   "metadata": {},
   "outputs": [
    {
     "name": "stderr",
     "output_type": "stream",
     "text": [
      "Using cache found in C:\\Users\\user/.cache\\torch\\hub\\pytorch_vision_master\n"
     ]
    }
   ],
   "source": [
    "model = torch.hub.load('pytorch/vision', 'resnet18', pretrained=False)"
   ]
  },
  {
   "cell_type": "markdown",
   "metadata": {},
   "source": [
    "model = torch.nn.Sequential(\n",
    "            torch.nn.Conv2d(in_channels=3, out_channels=32, kernel_size=(3,3)),\n",
    "            torch.nn.ReLU(),\n",
    "            torch.nn.MaxPool2d((2,2)),\n",
    "            torch.nn.Conv2d(in_channels=32, out_channels=64, kernel_size=(3,3)),\n",
    "            torch.nn.ReLU(),\n",
    "            torch.nn.MaxPool2d((2,2)),\n",
    "            torch.nn.Conv2d(in_channels=64, out_channels=128, kernel_size=(3,3)),\n",
    "            torch.nn.ReLU(),\n",
    "            torch.nn.MaxPool2d((2,2)),\n",
    "            torch.nn.Conv2d(in_channels=128, out_channels=128, kernel_size=(3,3)),\n",
    "            torch.nn.ReLU(),\n",
    "            torch.nn.MaxPool2d((2,2)),\n",
    "            nn.Flatten(),\n",
    "            torch.nn.Linear(32768, 2048),\n",
    "            )"
   ]
  },
  {
   "cell_type": "code",
   "execution_count": 6,
   "metadata": {},
   "outputs": [
    {
     "name": "stdout",
     "output_type": "stream",
     "text": [
      "training loss:  1.2861937517642645 \n",
      " training accuracy:  0.553421368547419\n",
      "training loss:  1.1152736434544184 \n",
      " training accuracy:  0.5762304921968787\n",
      "training loss:  1.0298213592762886 \n",
      " training accuracy:  0.5846338535414166\n",
      "training loss:  0.9531783810699311 \n",
      " training accuracy:  0.6866746698679472\n",
      "training loss:  0.9560604983357107 \n",
      " training accuracy:  0.6698679471788715\n",
      "training loss:  0.9226898483323808 \n",
      " training accuracy:  0.709483793517407\n",
      "training loss:  0.9055197401070634 \n",
      " training accuracy:  0.7286914765906363\n",
      "training loss:  0.8933642312821721 \n",
      " training accuracy:  0.7478991596638656\n",
      "training loss:  0.864598560197299 \n",
      " training accuracy:  0.8223289315726291\n",
      "training loss:  0.8555669144404178 \n",
      " training accuracy:  0.8187274909963985\n",
      "training loss:  0.8513935073977615 \n",
      " training accuracy:  0.8247298919567827\n",
      "training loss:  0.8497310936862394 \n",
      " training accuracy:  0.8199279711884754\n",
      "training loss:  0.8592157593584762 \n",
      " training accuracy:  0.8139255702280912\n",
      "training loss:  0.8473335517948272 \n",
      " training accuracy:  0.8367346938775511\n",
      "training loss:  0.8488424121617985 \n",
      " training accuracy:  0.8415366146458584\n"
     ]
    }
   ],
   "source": [
    "learning_rate = 0.05\n",
    "batch_size = 12\n",
    "epochs = 3\n",
    "logstep = int(10000 // batch_size)\n",
    "margin = 1.0\n",
    "\n",
    "train_loader = datatorch.DataLoader(dataset=train_dataset, \n",
    "                         shuffle=True, \n",
    "                         batch_size=batch_size)\n",
    "\n",
    "val_loader = datatorch.DataLoader(dataset=val_dataset, shuffle = True, batch_size= 6)\n",
    "\n",
    "\n",
    "\n",
    "#test_loader = datatorch.DataLoader(dataset=test_dataset, shuffle = False, batch_size= batch_size)\n",
    "\n",
    "\n",
    "            \n",
    "#model.fc = nn.Sequential(nn.Linear(model.fc.in_features,1024),\n",
    "                                  #nn.ReLU(),\n",
    "                                  #nn.Linear(1024, 2048))\n",
    "        \n",
    "#model.fc = nn.Sequential(nn.Linear(model.fc.in_features,2048), nn.Linear(2048, 2048))      \n",
    "        \n",
    "\n",
    "\n",
    "#net = TripletNet(resnet101())\n",
    "           \n",
    "            \n",
    "\n",
    "device = torch.device(\"cuda:0\" if torch.cuda.is_available() else \"cpu\")\n",
    "#device = torch.device(\"cuda:0\")\n",
    "model =model.to(device)\n",
    "#net = torch.nn.DataParallel(net).cuda()\n",
    "#cudnn.benchmark = True\n",
    " #create optimizer\n",
    "criterion = nn.TripletMarginLoss(margin=margin, p=2)\n",
    "#criterion = nn.MarginRankingLoss(margin = 0.01)\n",
    "optimizer = torch.optim.SGD(model.parameters(),lr=learning_rate,momentum=0.9,weight_decay=1e-5,nesterov=True)\n",
    "\n",
    "#scheduler = torch.optim.lr_scheduler.ReduceLROnPlateau(optimizer,mode='min',factor=0.1,patience=10,verbose=True)\n",
    "#optimizer = torch.optim.SGD(model.parameters(), lr=0.01, momentum=0.9)\n",
    "#scheduler = torch.optim.lr_scheduler.MultiStepLR(optimizer, milestones=[500,1000,1500], gamma=0.5)\n",
    "\n",
    "training_loss_vec = []\n",
    "training_accuracy_vec = []\n",
    "val_loss_vec = []\n",
    "val_f1_score = []\n",
    "    \n",
    "    \n",
    "\n",
    "# loop over epochs\n",
    "\n",
    "start = time.time()\n",
    "\n",
    "for e in range(epochs):\n",
    "    training_loss = 0.\n",
    "    training_accuracy = 0.\n",
    "    \n",
    "    model.train()\n",
    "    for idx, (data1, data2, data3) in enumerate(train_loader):\n",
    "    #for idx, (img,label) in enumerate(train_loader):\n",
    "        data1, data2, data3 = data1.cuda(), data2.cuda(), data3.cuda()\n",
    "        #img, label = img.cuda(), label.cuda()\n",
    "        #embedded_a, embedded_p, embedded_n = net(data1, data2, data3)\n",
    "        embedded_a, embedded_p, embedded_n = model(data1), model(data2), model(data3)\n",
    "        \n",
    "        \n",
    "        dist_a = torch.norm(embedded_a - embedded_n, p = 2)\n",
    "        dist_b = torch.norm(embedded_a - embedded_p, p = 2)\n",
    "        \n",
    "        # compute predictions using model\n",
    "        #y_pred =  model(img)\n",
    "        # compute loss\n",
    "        #target = torch.FloatTensor(dist_a.size()).fill_(1)\n",
    "        #target = target.cuda()\n",
    "        #rank_loss = criterion(dist_a,dist_b,target)\n",
    "        #loss_embedd = embedded_a.norm(2) + embedded_n.norm(2) + embedded_p.norm(2)\n",
    "        #loss = rank_loss# + 0.001*loss_embedd\n",
    "        loss = criterion(embedded_a, embedded_p, embedded_n) #tripletmarginloss\n",
    "        #loss = criterion(y_pred,label) \n",
    "        # call optimizer.zero_grad()\n",
    "        optimizer.zero_grad()\n",
    "        # run backward method\n",
    "        loss.backward()\n",
    "        # run optimizer step\n",
    "        optimizer.step()\n",
    "        #scheduler.step()  ######\n",
    "        # logging (optional)\n",
    "        \n",
    "        training_loss += loss.item()\n",
    "        pred = ((dist_a >= dist_b)*1).float().cpu().data\n",
    "        training_accuracy  += torch.mean(pred).item()\n",
    "        \n",
    "        #y_pred_idx = torch.max(y_pred.detach().cpu(),dim=1)[1]\n",
    "        #training_accuracy += torch.mean((y_pred_idx == label.cpu()).float()).item()\n",
    "        \n",
    "        if (idx+1) % logstep == 0: \n",
    "            training_loss_vec.append(training_loss/logstep)\n",
    "            training_accuracy_vec.append(training_accuracy/logstep)\n",
    "            print('epoch: ',e,' training loss: ', training_loss/logstep, '\\n', 'training accuracy: ', training_accuracy/logstep)\n",
    "            training_loss, training_accuracy = 0.,0.\n",
    "    \n",
    "        \n"
   ]
  },
  {
   "cell_type": "code",
   "execution_count": 58,
   "metadata": {},
   "outputs": [
    {
     "name": "stdout",
     "output_type": "stream",
     "text": [
      "tensor([1.1489, 0.2353])\n",
      "tensor([[1.1489, 0.2353],\n",
      "        [1.0000, 2.0000],\n",
      "        [3.0000, 4.0000]]) tensor([1.1489, 1.0000, 3.0000])\n"
     ]
    }
   ],
   "source": [
    "a = torch.Tensor([1.1489, 0.2353])\n",
    "b = torch.Tensor([1, 2])\n",
    "c = torch.Tensor([3, 4])\n",
    "print(a)\n",
    "diff = torch.stack([a,b,c],0)\n",
    "print(diff,diff[:,0])"
   ]
  },
  {
   "cell_type": "code",
   "execution_count": 55,
   "metadata": {},
   "outputs": [
    {
     "ename": "RuntimeError",
     "evalue": "CUDA out of memory. Tried to allocate 20.00 MiB (GPU 0; 8.00 GiB total capacity; 5.82 GiB already allocated; 18.25 MiB free; 79.74 MiB cached)",
     "output_type": "error",
     "traceback": [
      "\u001b[1;31m---------------------------------------------------------------------------\u001b[0m",
      "\u001b[1;31mRuntimeError\u001b[0m                              Traceback (most recent call last)",
      "\u001b[1;32m<ipython-input-55-ed97acaa1f93>\u001b[0m in \u001b[0;36m<module>\u001b[1;34m\u001b[0m\n\u001b[0;32m     33\u001b[0m     \u001b[1;32mfor\u001b[0m \u001b[0midx\u001b[0m\u001b[1;33m,\u001b[0m \u001b[1;33m(\u001b[0m\u001b[0mdata1\u001b[0m\u001b[1;33m,\u001b[0m \u001b[0mdata2\u001b[0m\u001b[1;33m,\u001b[0m \u001b[0mdata3\u001b[0m\u001b[1;33m)\u001b[0m \u001b[1;32min\u001b[0m \u001b[0menumerate\u001b[0m\u001b[1;33m(\u001b[0m\u001b[0mtrain_loader\u001b[0m\u001b[1;33m)\u001b[0m\u001b[1;33m:\u001b[0m\u001b[1;33m\u001b[0m\u001b[1;33m\u001b[0m\u001b[0m\n\u001b[0;32m     34\u001b[0m     \u001b[1;31m#for idx, (img,label) in enumerate(train_loader):\u001b[0m\u001b[1;33m\u001b[0m\u001b[1;33m\u001b[0m\u001b[1;33m\u001b[0m\u001b[0m\n\u001b[1;32m---> 35\u001b[1;33m         \u001b[0mdata1\u001b[0m\u001b[1;33m,\u001b[0m \u001b[0mdata2\u001b[0m\u001b[1;33m,\u001b[0m \u001b[0mdata3\u001b[0m \u001b[1;33m=\u001b[0m \u001b[0mdata1\u001b[0m\u001b[1;33m.\u001b[0m\u001b[0mcuda\u001b[0m\u001b[1;33m(\u001b[0m\u001b[1;33m)\u001b[0m\u001b[1;33m,\u001b[0m \u001b[0mdata2\u001b[0m\u001b[1;33m.\u001b[0m\u001b[0mcuda\u001b[0m\u001b[1;33m(\u001b[0m\u001b[1;33m)\u001b[0m\u001b[1;33m,\u001b[0m \u001b[0mdata3\u001b[0m\u001b[1;33m.\u001b[0m\u001b[0mcuda\u001b[0m\u001b[1;33m(\u001b[0m\u001b[1;33m)\u001b[0m\u001b[1;33m\u001b[0m\u001b[1;33m\u001b[0m\u001b[0m\n\u001b[0m\u001b[0;32m     36\u001b[0m         \u001b[1;31m#img, label = img.cuda(), label.cuda()\u001b[0m\u001b[1;33m\u001b[0m\u001b[1;33m\u001b[0m\u001b[1;33m\u001b[0m\u001b[0m\n\u001b[0;32m     37\u001b[0m         \u001b[1;31m#embedded_a, embedded_p, embedded_n = net(data1, data2, data3)\u001b[0m\u001b[1;33m\u001b[0m\u001b[1;33m\u001b[0m\u001b[1;33m\u001b[0m\u001b[0m\n",
      "\u001b[1;31mRuntimeError\u001b[0m: CUDA out of memory. Tried to allocate 20.00 MiB (GPU 0; 8.00 GiB total capacity; 5.82 GiB already allocated; 18.25 MiB free; 79.74 MiB cached)"
     ]
    }
   ],
   "source": [
    "learning_rate2 = 0.001\n",
    "batch_size = 3\n",
    "epochs = 1\n",
    "logstep = int(10000 // batch_size)\n",
    "\n",
    "train_loader = datatorch.DataLoader(dataset=train_dataset, \n",
    "                         shuffle=True, \n",
    "                         batch_size=batch_size)\n",
    "\n",
    "            \n",
    "model2= nn.Sequential(nn.Linear(2, 10),nn.Dropout(0.5),nn.Linear(10,2), nn.ReLU())\n",
    "           \n",
    "            \n",
    "\n",
    "device = torch.device(\"cuda:0\" if torch.cuda.is_available() else \"cpu\")\n",
    "model2 =model2.to(device)\n",
    "#criterion2 = nn.TripletMarginLoss(margin=margin, p=2)\n",
    "optimizer2 = torch.optim.SGD(model2.parameters(),lr=learning_rate2,momentum=0.9,weight_decay=1e-5,nesterov=True)\n",
    "\n",
    "training_loss_vec = []\n",
    "training_accuracy_vec = []\n",
    "    \n",
    "    \n",
    "\n",
    "# loop over epochs\n",
    "\n",
    "start = time.time()\n",
    "model.eval()\n",
    "model2.eval()\n",
    "for e in range(epochs):\n",
    "    training_loss = 0.\n",
    "    training_accuracy = 0.\n",
    "    for idx, (data1, data2, data3) in enumerate(train_loader):\n",
    "    #for idx, (img,label) in enumerate(train_loader):\n",
    "        data1, data2, data3 = data1.cuda(), data2.cuda(), data3.cuda()\n",
    "        #img, label = img.cuda(), label.cuda()\n",
    "        #embedded_a, embedded_p, embedded_n = net(data1, data2, data3)\n",
    "        embedded_a, embedded_p, embedded_n = model(data1), model(data2), model(data3)\n",
    "        \n",
    "        dist_a = F.pairwise_distance(embedded_a,embedded_n, p = 2).cpu()\n",
    "        dist_b = F.pairwise_distance(embedded_a,embedded_p, p = 2).cpu()\n",
    "        concat_diff = torch.stack([dist_a,dist_b],1).cuda()\n",
    "        \n",
    "        output = model2(concat_diff).cpu()\n",
    "        print(output, output[0])\n",
    "        break\n",
    "        loss =  (1-output[:,0]).pow(2) + output[:,1].pow(2)\n",
    "        #loss = criterion(y_pred,label) \n",
    "        # call optimizer.zero_grad()\n",
    "        optimizer2.zero_grad()\n",
    "        # run backward method\n",
    "        loss.backward()\n",
    "        # run optimizer step\n",
    "        optimizer2.step()\n",
    "        #scheduler.step()  ######\n",
    "        # logging (optional)\n",
    "        \n",
    "        #training_loss += loss.item()\n",
    "        pred = ((output[:,0] >= output[:,1])*1).float().cpu().data\n",
    "        training_accuracy  += torch.mean(pred).item()\n",
    "        \n",
    "        #y_pred_idx = torch.max(y_pred.detach().cpu(),dim=1)[1]\n",
    "        #training_accuracy += torch.mean((y_pred_idx == label.cpu()).float()).item()\n",
    "        \n",
    "        if (idx+1) % logstep == 0: \n",
    "            #training_loss_vec.append(training_loss/logstep)\n",
    "            training_accuracy_vec.append(training_accuracy/logstep)\n",
    "            #print('training loss: ', training_loss/logstep, '\\n', 'training accuracy: ', training_accuracy/logstep)\n",
    "            print('training accuracy: ', training_accuracy/logstep)\n",
    "            training_loss, training_accuracy = 0.,0.\n",
    "    \n",
    "end = time.time()     \n"
   ]
  },
  {
   "cell_type": "code",
   "execution_count": 7,
   "metadata": {},
   "outputs": [
    {
     "name": "stdout",
     "output_type": "stream",
     "text": [
      " Current Validation F1 Score:  0.5062268596432177 Current Val Acc: 0.5070564516129032\n",
      "2:00:29.333987\n"
     ]
    }
   ],
   "source": [
    "val_loader = datatorch.DataLoader(dataset=val_dataset, shuffle = True, batch_size= 6)\n",
    "val_labels_pred = []\n",
    "model.eval()\n",
    "for idx, (data1, data2, data3) in enumerate(val_loader):\n",
    "    data1, data2, data3 = data1.cuda(), data2.cuda(), data3.cuda()\n",
    "    embedded_a, embedded_p, embedded_n = model(data1), model(data2), model(data3)\n",
    "\n",
    "    dist_a = F.pairwise_distance(embedded_a,embedded_n, p = 2)\n",
    "    dist_b = F.pairwise_distance(embedded_a, embedded_p, p = 2)\n",
    "    pred = (dist_a >= dist_b).int().tolist()\n",
    "    val_labels_pred += pred\n",
    "\n",
    "f1 = f1_score(val_labels_pred, val_labels)\n",
    "acc = accuracy_score(val_labels_pred, val_labels)\n",
    "val_f1_score.append(f1)\n",
    "#print('Epoch :',e,' Current Validation F1 Score: ', f1, 'Current Val Acc:', acc)\n",
    "print(' Current Validation F1 Score: ', f1, 'Current Val Acc:', acc)\n",
    "    \n",
    "\n",
    "print(str(datetime.timedelta(seconds= end - start)))\n",
    "    "
   ]
  },
  {
   "cell_type": "code",
   "execution_count": null,
   "metadata": {},
   "outputs": [],
   "source": []
  },
  {
   "cell_type": "code",
   "execution_count": 8,
   "metadata": {},
   "outputs": [
    {
     "name": "stdout",
     "output_type": "stream",
     "text": [
      "[0.5062268596432177]\n"
     ]
    }
   ],
   "source": [
    "## evaluation\n",
    "\n",
    "\n",
    "#Epoch : 2  Current Validation F1 Score:  0.734122353725621 Current Val Acc: 0.7320228494623656\n",
    "print(val_f1_score)\n",
    "#Epoch : 3  Current F1 Score:  0.8208248816768087\n",
    "# 0.5891517599538373"
   ]
  },
  {
   "cell_type": "code",
   "execution_count": 9,
   "metadata": {},
   "outputs": [
    {
     "name": "stdout",
     "output_type": "stream",
     "text": [
      "5952\n"
     ]
    }
   ],
   "source": [
    "#for i in range(0, len(val_labels_pred)): \n",
    "    #val_labels_pred[i] = int(val_labels_pred[i]) \n",
    "#f1 = f1_score(val_labels_pred, val_labels)\n",
    "\n",
    "print(len(val_labels_pred,))"
   ]
  },
  {
   "cell_type": "code",
   "execution_count": 10,
   "metadata": {},
   "outputs": [],
   "source": [
    "test_loader = datatorch.DataLoader(dataset=test_dataset, shuffle = False, batch_size= 6)"
   ]
  },
  {
   "cell_type": "code",
   "execution_count": 11,
   "metadata": {},
   "outputs": [],
   "source": [
    "test_triplets_pred = []\n",
    "model.eval()\n",
    "for idx, (data1, data2, data3) in enumerate(test_loader):\n",
    "    data1, data2, data3 = data1.cuda(), data2.cuda(), data3.cuda()\n",
    "    embedded_a, embedded_p, embedded_n = model(data1), model(data2), model(data3)\n",
    "    dist_a = F.pairwise_distance(embedded_a,embedded_n, p = 2)\n",
    "    dist_b = F.pairwise_distance(embedded_a,embedded_p, p = 2)\n",
    "    pred = (dist_a >= dist_b).int().tolist()\n",
    "    #diff = diff.cpu().data\n",
    "    #print(diff[diff > 0.015], len(diff[diff > 0.15].size()))#embedded_a[np.abs(diff)>0.015,:])\n",
    "    #pred = (diff > 0).int().tolist()\n",
    "    test_triplets_pred += pred\n",
    "    "
   ]
  },
  {
   "cell_type": "code",
   "execution_count": 12,
   "metadata": {},
   "outputs": [
    {
     "name": "stdout",
     "output_type": "stream",
     "text": [
      "59544\n"
     ]
    }
   ],
   "source": [
    "print(len(test_triplets_pred))"
   ]
  },
  {
   "cell_type": "code",
   "execution_count": 13,
   "metadata": {},
   "outputs": [],
   "source": [
    "with open('submission1_Ketzel.txt', 'w') as f:\n",
    "    for item in test_triplets_pred:\n",
    "        f.write(str(item) + '\\n')"
   ]
  },
  {
   "cell_type": "code",
   "execution_count": null,
   "metadata": {},
   "outputs": [],
   "source": []
  }
 ],
 "metadata": {
  "kernelspec": {
   "display_name": "Python 3",
   "language": "python",
   "name": "python3"
  },
  "language_info": {
   "codemirror_mode": {
    "name": "ipython",
    "version": 3
   },
   "file_extension": ".py",
   "mimetype": "text/x-python",
   "name": "python",
   "nbconvert_exporter": "python",
   "pygments_lexer": "ipython3",
   "version": "3.7.3"
  }
 },
 "nbformat": 4,
 "nbformat_minor": 4
}
